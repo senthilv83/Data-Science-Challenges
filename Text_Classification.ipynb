{
  "metadata": {
    "kernelspec": {
      "language": "python",
      "display_name": "Python 3",
      "name": "python3"
    },
    "language_info": {
      "name": "python",
      "version": "3.7.10",
      "mimetype": "text/x-python",
      "codemirror_mode": {
        "name": "ipython",
        "version": 3
      },
      "pygments_lexer": "ipython3",
      "nbconvert_exporter": "python",
      "file_extension": ".py"
    },
    "colab": {
      "provenance": [],
      "include_colab_link": true
    }
  },
  "nbformat_minor": 0,
  "nbformat": 4,
  "cells": [
    {
      "cell_type": "markdown",
      "metadata": {
        "id": "view-in-github",
        "colab_type": "text"
      },
      "source": [
        "<a href=\"https://colab.research.google.com/github/senthilv83/Data-Science-Challenges/blob/main/Text_Classification.ipynb\" target=\"_parent\"><img src=\"https://colab.research.google.com/assets/colab-badge.svg\" alt=\"Open In Colab\"/></a>"
      ]
    },
    {
      "cell_type": "code",
      "source": [
        "# ! pip install langdetect\n",
        "# ! pip install translate\n",
        "# ! pip install gensim\n",
        "# ! python -m spacy download en_core_web_lg"
      ],
      "metadata": {
        "id": "ODS8d8N4E1eI",
        "outputId": "ed311266-467e-44ad-e147-7698ae3d34e1",
        "execution": {
          "iopub.status.busy": "2021-06-17T12:10:43.899556Z",
          "iopub.execute_input": "2021-06-17T12:10:43.900093Z",
          "iopub.status.idle": "2021-06-17T12:10:43.918171Z",
          "shell.execute_reply.started": "2021-06-17T12:10:43.900026Z",
          "shell.execute_reply": "2021-06-17T12:10:43.916972Z"
        },
        "trusted": true,
        "colab": {
          "base_uri": "https://localhost:8080/"
        }
      },
      "execution_count": null,
      "outputs": [
        {
          "output_type": "stream",
          "name": "stdout",
          "text": [
            "Looking in indexes: https://pypi.org/simple, https://us-python.pkg.dev/colab-wheels/public/simple/\n",
            "Collecting langdetect\n",
            "  Downloading langdetect-1.0.9.tar.gz (981 kB)\n",
            "\u001b[K     |████████████████████████████████| 981 kB 8.5 MB/s \n",
            "\u001b[?25hRequirement already satisfied: six in /usr/local/lib/python3.7/dist-packages (from langdetect) (1.15.0)\n",
            "Building wheels for collected packages: langdetect\n",
            "  Building wheel for langdetect (setup.py) ... \u001b[?25l\u001b[?25hdone\n",
            "  Created wheel for langdetect: filename=langdetect-1.0.9-py3-none-any.whl size=993242 sha256=b8eb73ae5e1f85043d1baec0b2f2f4cc7a26865fd4ff6e0112fb72e625e3478d\n",
            "  Stored in directory: /root/.cache/pip/wheels/c5/96/8a/f90c59ed25d75e50a8c10a1b1c2d4c402e4dacfa87f3aff36a\n",
            "Successfully built langdetect\n",
            "Installing collected packages: langdetect\n",
            "Successfully installed langdetect-1.0.9\n",
            "Looking in indexes: https://pypi.org/simple, https://us-python.pkg.dev/colab-wheels/public/simple/\n",
            "Collecting translate\n",
            "  Downloading translate-3.6.1-py2.py3-none-any.whl (12 kB)\n",
            "Collecting libretranslatepy==2.1.1\n",
            "  Downloading libretranslatepy-2.1.1-py3-none-any.whl (3.2 kB)\n",
            "Requirement already satisfied: lxml in /usr/local/lib/python3.7/dist-packages (from translate) (4.9.1)\n",
            "Requirement already satisfied: requests in /usr/local/lib/python3.7/dist-packages (from translate) (2.23.0)\n",
            "Requirement already satisfied: click in /usr/local/lib/python3.7/dist-packages (from translate) (7.1.2)\n",
            "Requirement already satisfied: chardet<4,>=3.0.2 in /usr/local/lib/python3.7/dist-packages (from requests->translate) (3.0.4)\n",
            "Requirement already satisfied: idna<3,>=2.5 in /usr/local/lib/python3.7/dist-packages (from requests->translate) (2.10)\n",
            "Requirement already satisfied: certifi>=2017.4.17 in /usr/local/lib/python3.7/dist-packages (from requests->translate) (2022.6.15)\n",
            "Requirement already satisfied: urllib3!=1.25.0,!=1.25.1,<1.26,>=1.21.1 in /usr/local/lib/python3.7/dist-packages (from requests->translate) (1.24.3)\n",
            "Installing collected packages: libretranslatepy, translate\n",
            "Successfully installed libretranslatepy-2.1.1 translate-3.6.1\n",
            "Looking in indexes: https://pypi.org/simple, https://us-python.pkg.dev/colab-wheels/public/simple/\n",
            "Requirement already satisfied: gensim in /usr/local/lib/python3.7/dist-packages (3.6.0)\n",
            "Requirement already satisfied: smart-open>=1.2.1 in /usr/local/lib/python3.7/dist-packages (from gensim) (5.2.1)\n",
            "Requirement already satisfied: numpy>=1.11.3 in /usr/local/lib/python3.7/dist-packages (from gensim) (1.21.6)\n",
            "Requirement already satisfied: scipy>=0.18.1 in /usr/local/lib/python3.7/dist-packages (from gensim) (1.7.3)\n",
            "Requirement already satisfied: six>=1.5.0 in /usr/local/lib/python3.7/dist-packages (from gensim) (1.15.0)\n",
            "2022-09-26 07:52:15.692307: E tensorflow/stream_executor/cuda/cuda_driver.cc:271] failed call to cuInit: CUDA_ERROR_NO_DEVICE: no CUDA-capable device is detected\n",
            "Looking in indexes: https://pypi.org/simple, https://us-python.pkg.dev/colab-wheels/public/simple/\n",
            "Collecting en-core-web-lg==3.4.0\n",
            "  Downloading https://github.com/explosion/spacy-models/releases/download/en_core_web_lg-3.4.0/en_core_web_lg-3.4.0-py3-none-any.whl (587.7 MB)\n",
            "\u001b[K     |████████████████████████████████| 587.7 MB 9.2 kB/s \n",
            "\u001b[?25hRequirement already satisfied: spacy<3.5.0,>=3.4.0 in /usr/local/lib/python3.7/dist-packages (from en-core-web-lg==3.4.0) (3.4.1)\n",
            "Requirement already satisfied: numpy>=1.15.0 in /usr/local/lib/python3.7/dist-packages (from spacy<3.5.0,>=3.4.0->en-core-web-lg==3.4.0) (1.21.6)\n",
            "Requirement already satisfied: pydantic!=1.8,!=1.8.1,<1.10.0,>=1.7.4 in /usr/local/lib/python3.7/dist-packages (from spacy<3.5.0,>=3.4.0->en-core-web-lg==3.4.0) (1.9.2)\n",
            "Requirement already satisfied: setuptools in /usr/local/lib/python3.7/dist-packages (from spacy<3.5.0,>=3.4.0->en-core-web-lg==3.4.0) (57.4.0)\n",
            "Requirement already satisfied: cymem<2.1.0,>=2.0.2 in /usr/local/lib/python3.7/dist-packages (from spacy<3.5.0,>=3.4.0->en-core-web-lg==3.4.0) (2.0.6)\n",
            "Requirement already satisfied: requests<3.0.0,>=2.13.0 in /usr/local/lib/python3.7/dist-packages (from spacy<3.5.0,>=3.4.0->en-core-web-lg==3.4.0) (2.23.0)\n",
            "Requirement already satisfied: catalogue<2.1.0,>=2.0.6 in /usr/local/lib/python3.7/dist-packages (from spacy<3.5.0,>=3.4.0->en-core-web-lg==3.4.0) (2.0.8)\n",
            "Requirement already satisfied: wasabi<1.1.0,>=0.9.1 in /usr/local/lib/python3.7/dist-packages (from spacy<3.5.0,>=3.4.0->en-core-web-lg==3.4.0) (0.10.1)\n",
            "Requirement already satisfied: jinja2 in /usr/local/lib/python3.7/dist-packages (from spacy<3.5.0,>=3.4.0->en-core-web-lg==3.4.0) (2.11.3)\n",
            "Requirement already satisfied: spacy-legacy<3.1.0,>=3.0.9 in /usr/local/lib/python3.7/dist-packages (from spacy<3.5.0,>=3.4.0->en-core-web-lg==3.4.0) (3.0.10)\n",
            "Requirement already satisfied: langcodes<4.0.0,>=3.2.0 in /usr/local/lib/python3.7/dist-packages (from spacy<3.5.0,>=3.4.0->en-core-web-lg==3.4.0) (3.3.0)\n",
            "Requirement already satisfied: pathy>=0.3.5 in /usr/local/lib/python3.7/dist-packages (from spacy<3.5.0,>=3.4.0->en-core-web-lg==3.4.0) (0.6.2)\n",
            "Requirement already satisfied: typing-extensions<4.2.0,>=3.7.4 in /usr/local/lib/python3.7/dist-packages (from spacy<3.5.0,>=3.4.0->en-core-web-lg==3.4.0) (4.1.1)\n",
            "Requirement already satisfied: typer<0.5.0,>=0.3.0 in /usr/local/lib/python3.7/dist-packages (from spacy<3.5.0,>=3.4.0->en-core-web-lg==3.4.0) (0.4.2)\n",
            "Requirement already satisfied: murmurhash<1.1.0,>=0.28.0 in /usr/local/lib/python3.7/dist-packages (from spacy<3.5.0,>=3.4.0->en-core-web-lg==3.4.0) (1.0.8)\n",
            "Requirement already satisfied: tqdm<5.0.0,>=4.38.0 in /usr/local/lib/python3.7/dist-packages (from spacy<3.5.0,>=3.4.0->en-core-web-lg==3.4.0) (4.64.1)\n",
            "Requirement already satisfied: packaging>=20.0 in /usr/local/lib/python3.7/dist-packages (from spacy<3.5.0,>=3.4.0->en-core-web-lg==3.4.0) (21.3)\n",
            "Requirement already satisfied: thinc<8.2.0,>=8.1.0 in /usr/local/lib/python3.7/dist-packages (from spacy<3.5.0,>=3.4.0->en-core-web-lg==3.4.0) (8.1.0)\n",
            "Requirement already satisfied: preshed<3.1.0,>=3.0.2 in /usr/local/lib/python3.7/dist-packages (from spacy<3.5.0,>=3.4.0->en-core-web-lg==3.4.0) (3.0.7)\n",
            "Requirement already satisfied: srsly<3.0.0,>=2.4.3 in /usr/local/lib/python3.7/dist-packages (from spacy<3.5.0,>=3.4.0->en-core-web-lg==3.4.0) (2.4.4)\n",
            "Requirement already satisfied: spacy-loggers<2.0.0,>=1.0.0 in /usr/local/lib/python3.7/dist-packages (from spacy<3.5.0,>=3.4.0->en-core-web-lg==3.4.0) (1.0.3)\n",
            "Requirement already satisfied: zipp>=0.5 in /usr/local/lib/python3.7/dist-packages (from catalogue<2.1.0,>=2.0.6->spacy<3.5.0,>=3.4.0->en-core-web-lg==3.4.0) (3.8.1)\n",
            "Requirement already satisfied: pyparsing!=3.0.5,>=2.0.2 in /usr/local/lib/python3.7/dist-packages (from packaging>=20.0->spacy<3.5.0,>=3.4.0->en-core-web-lg==3.4.0) (3.0.9)\n",
            "Requirement already satisfied: smart-open<6.0.0,>=5.2.1 in /usr/local/lib/python3.7/dist-packages (from pathy>=0.3.5->spacy<3.5.0,>=3.4.0->en-core-web-lg==3.4.0) (5.2.1)\n",
            "Requirement already satisfied: certifi>=2017.4.17 in /usr/local/lib/python3.7/dist-packages (from requests<3.0.0,>=2.13.0->spacy<3.5.0,>=3.4.0->en-core-web-lg==3.4.0) (2022.6.15)\n",
            "Requirement already satisfied: chardet<4,>=3.0.2 in /usr/local/lib/python3.7/dist-packages (from requests<3.0.0,>=2.13.0->spacy<3.5.0,>=3.4.0->en-core-web-lg==3.4.0) (3.0.4)\n",
            "Requirement already satisfied: urllib3!=1.25.0,!=1.25.1,<1.26,>=1.21.1 in /usr/local/lib/python3.7/dist-packages (from requests<3.0.0,>=2.13.0->spacy<3.5.0,>=3.4.0->en-core-web-lg==3.4.0) (1.24.3)\n",
            "Requirement already satisfied: idna<3,>=2.5 in /usr/local/lib/python3.7/dist-packages (from requests<3.0.0,>=2.13.0->spacy<3.5.0,>=3.4.0->en-core-web-lg==3.4.0) (2.10)\n",
            "Requirement already satisfied: blis<0.8.0,>=0.7.8 in /usr/local/lib/python3.7/dist-packages (from thinc<8.2.0,>=8.1.0->spacy<3.5.0,>=3.4.0->en-core-web-lg==3.4.0) (0.7.8)\n",
            "Requirement already satisfied: click<9.0.0,>=7.1.1 in /usr/local/lib/python3.7/dist-packages (from typer<0.5.0,>=0.3.0->spacy<3.5.0,>=3.4.0->en-core-web-lg==3.4.0) (7.1.2)\n",
            "Requirement already satisfied: MarkupSafe>=0.23 in /usr/local/lib/python3.7/dist-packages (from jinja2->spacy<3.5.0,>=3.4.0->en-core-web-lg==3.4.0) (2.0.1)\n",
            "Installing collected packages: en-core-web-lg\n",
            "Successfully installed en-core-web-lg-3.4.0\n",
            "\u001b[38;5;2m✔ Download and installation successful\u001b[0m\n",
            "You can now load the package via spacy.load('en_core_web_lg')\n"
          ]
        }
      ]
    },
    {
      "cell_type": "code",
      "source": [
        "import spacy.cli\n",
        "#spacy.cli.download(\"en_core_web_lg\")\n",
        "import en_core_web_lg\n",
        "nlp = en_core_web_lg.load()"
      ],
      "metadata": {
        "id": "RHi5_5FkE1cc",
        "outputId": "f52f23e5-3cfe-45b8-9e8c-f8caa6feb6dd",
        "execution": {
          "iopub.status.busy": "2021-06-17T12:09:35.476751Z",
          "iopub.execute_input": "2021-06-17T12:09:35.477207Z",
          "iopub.status.idle": "2021-06-17T12:10:43.891601Z",
          "shell.execute_reply.started": "2021-06-17T12:09:35.477157Z",
          "shell.execute_reply": "2021-06-17T12:10:43.890698Z"
        },
        "trusted": true,
        "colab": {
          "base_uri": "https://localhost:8080/"
        }
      },
      "execution_count": null,
      "outputs": [
        {
          "output_type": "stream",
          "name": "stdout",
          "text": [
            "\u001b[38;5;2m✔ Download and installation successful\u001b[0m\n",
            "You can now load the package via spacy.load('en_core_web_lg')\n"
          ]
        }
      ]
    },
    {
      "cell_type": "code",
      "source": [
        "## for data\n",
        "import pandas as pd\n",
        "import numpy as np\n",
        "\n",
        "## for plotting\n",
        "import matplotlib.pyplot as plt\n",
        "import seaborn as sns\n",
        "\n",
        "## for text processing\n",
        "from dateutil import parser\n",
        "import string\n",
        "import re\n",
        "import nltk\n",
        "nltk.download('punkt')\n",
        "nltk.download('wordnet')\n",
        "from nltk.stem.porter import PorterStemmer\n",
        "from spacy.lang.en.stop_words import STOP_WORDS\n",
        "\n",
        "from gensim.models import KeyedVectors\n",
        "\n",
        "## for language detection\n",
        "## warnings !!\n",
        "import warnings\n",
        "warnings.filterwarnings('ignore')\n"
      ],
      "metadata": {
        "id": "Up0-2KGnXm37",
        "outputId": "946a1d17-c8d1-4cd6-c871-43608bdd0f38",
        "execution": {
          "iopub.status.busy": "2021-06-17T12:11:12.466967Z",
          "iopub.execute_input": "2021-06-17T12:11:12.467311Z",
          "iopub.status.idle": "2021-06-17T12:11:12.477548Z",
          "shell.execute_reply.started": "2021-06-17T12:11:12.467281Z",
          "shell.execute_reply": "2021-06-17T12:11:12.475745Z"
        },
        "trusted": true,
        "colab": {
          "base_uri": "https://localhost:8080/"
        }
      },
      "execution_count": null,
      "outputs": [
        {
          "output_type": "stream",
          "name": "stderr",
          "text": [
            "[nltk_data] Downloading package punkt to /root/nltk_data...\n",
            "[nltk_data]   Unzipping tokenizers/punkt.zip.\n",
            "[nltk_data] Downloading package wordnet to /root/nltk_data...\n"
          ]
        }
      ]
    },
    {
      "cell_type": "code",
      "source": [
        "from google.colab import files\n",
        "uploaded = files.upload()"
      ],
      "metadata": {
        "id": "OhyRpjgWE6W7",
        "execution": {
          "iopub.status.busy": "2021-06-17T12:11:13.304642Z",
          "iopub.execute_input": "2021-06-17T12:11:13.305140Z",
          "iopub.status.idle": "2021-06-17T12:11:13.309149Z",
          "shell.execute_reply.started": "2021-06-17T12:11:13.305106Z",
          "shell.execute_reply": "2021-06-17T12:11:13.308257Z"
        },
        "trusted": true,
        "colab": {
          "base_uri": "https://localhost:8080/",
          "height": 73
        },
        "outputId": "dd56ef47-9640-41a7-e129-33fab85bd113"
      },
      "execution_count": null,
      "outputs": [
        {
          "output_type": "display_data",
          "data": {
            "text/plain": [
              "<IPython.core.display.HTML object>"
            ],
            "text/html": [
              "\n",
              "     <input type=\"file\" id=\"files-3a4b5224-1909-4374-a139-a3bcb1ea7a68\" name=\"files[]\" multiple disabled\n",
              "        style=\"border:none\" />\n",
              "     <output id=\"result-3a4b5224-1909-4374-a139-a3bcb1ea7a68\">\n",
              "      Upload widget is only available when the cell has been executed in the\n",
              "      current browser session. Please rerun this cell to enable.\n",
              "      </output>\n",
              "      <script>// Copyright 2017 Google LLC\n",
              "//\n",
              "// Licensed under the Apache License, Version 2.0 (the \"License\");\n",
              "// you may not use this file except in compliance with the License.\n",
              "// You may obtain a copy of the License at\n",
              "//\n",
              "//      http://www.apache.org/licenses/LICENSE-2.0\n",
              "//\n",
              "// Unless required by applicable law or agreed to in writing, software\n",
              "// distributed under the License is distributed on an \"AS IS\" BASIS,\n",
              "// WITHOUT WARRANTIES OR CONDITIONS OF ANY KIND, either express or implied.\n",
              "// See the License for the specific language governing permissions and\n",
              "// limitations under the License.\n",
              "\n",
              "/**\n",
              " * @fileoverview Helpers for google.colab Python module.\n",
              " */\n",
              "(function(scope) {\n",
              "function span(text, styleAttributes = {}) {\n",
              "  const element = document.createElement('span');\n",
              "  element.textContent = text;\n",
              "  for (const key of Object.keys(styleAttributes)) {\n",
              "    element.style[key] = styleAttributes[key];\n",
              "  }\n",
              "  return element;\n",
              "}\n",
              "\n",
              "// Max number of bytes which will be uploaded at a time.\n",
              "const MAX_PAYLOAD_SIZE = 100 * 1024;\n",
              "\n",
              "function _uploadFiles(inputId, outputId) {\n",
              "  const steps = uploadFilesStep(inputId, outputId);\n",
              "  const outputElement = document.getElementById(outputId);\n",
              "  // Cache steps on the outputElement to make it available for the next call\n",
              "  // to uploadFilesContinue from Python.\n",
              "  outputElement.steps = steps;\n",
              "\n",
              "  return _uploadFilesContinue(outputId);\n",
              "}\n",
              "\n",
              "// This is roughly an async generator (not supported in the browser yet),\n",
              "// where there are multiple asynchronous steps and the Python side is going\n",
              "// to poll for completion of each step.\n",
              "// This uses a Promise to block the python side on completion of each step,\n",
              "// then passes the result of the previous step as the input to the next step.\n",
              "function _uploadFilesContinue(outputId) {\n",
              "  const outputElement = document.getElementById(outputId);\n",
              "  const steps = outputElement.steps;\n",
              "\n",
              "  const next = steps.next(outputElement.lastPromiseValue);\n",
              "  return Promise.resolve(next.value.promise).then((value) => {\n",
              "    // Cache the last promise value to make it available to the next\n",
              "    // step of the generator.\n",
              "    outputElement.lastPromiseValue = value;\n",
              "    return next.value.response;\n",
              "  });\n",
              "}\n",
              "\n",
              "/**\n",
              " * Generator function which is called between each async step of the upload\n",
              " * process.\n",
              " * @param {string} inputId Element ID of the input file picker element.\n",
              " * @param {string} outputId Element ID of the output display.\n",
              " * @return {!Iterable<!Object>} Iterable of next steps.\n",
              " */\n",
              "function* uploadFilesStep(inputId, outputId) {\n",
              "  const inputElement = document.getElementById(inputId);\n",
              "  inputElement.disabled = false;\n",
              "\n",
              "  const outputElement = document.getElementById(outputId);\n",
              "  outputElement.innerHTML = '';\n",
              "\n",
              "  const pickedPromise = new Promise((resolve) => {\n",
              "    inputElement.addEventListener('change', (e) => {\n",
              "      resolve(e.target.files);\n",
              "    });\n",
              "  });\n",
              "\n",
              "  const cancel = document.createElement('button');\n",
              "  inputElement.parentElement.appendChild(cancel);\n",
              "  cancel.textContent = 'Cancel upload';\n",
              "  const cancelPromise = new Promise((resolve) => {\n",
              "    cancel.onclick = () => {\n",
              "      resolve(null);\n",
              "    };\n",
              "  });\n",
              "\n",
              "  // Wait for the user to pick the files.\n",
              "  const files = yield {\n",
              "    promise: Promise.race([pickedPromise, cancelPromise]),\n",
              "    response: {\n",
              "      action: 'starting',\n",
              "    }\n",
              "  };\n",
              "\n",
              "  cancel.remove();\n",
              "\n",
              "  // Disable the input element since further picks are not allowed.\n",
              "  inputElement.disabled = true;\n",
              "\n",
              "  if (!files) {\n",
              "    return {\n",
              "      response: {\n",
              "        action: 'complete',\n",
              "      }\n",
              "    };\n",
              "  }\n",
              "\n",
              "  for (const file of files) {\n",
              "    const li = document.createElement('li');\n",
              "    li.append(span(file.name, {fontWeight: 'bold'}));\n",
              "    li.append(span(\n",
              "        `(${file.type || 'n/a'}) - ${file.size} bytes, ` +\n",
              "        `last modified: ${\n",
              "            file.lastModifiedDate ? file.lastModifiedDate.toLocaleDateString() :\n",
              "                                    'n/a'} - `));\n",
              "    const percent = span('0% done');\n",
              "    li.appendChild(percent);\n",
              "\n",
              "    outputElement.appendChild(li);\n",
              "\n",
              "    const fileDataPromise = new Promise((resolve) => {\n",
              "      const reader = new FileReader();\n",
              "      reader.onload = (e) => {\n",
              "        resolve(e.target.result);\n",
              "      };\n",
              "      reader.readAsArrayBuffer(file);\n",
              "    });\n",
              "    // Wait for the data to be ready.\n",
              "    let fileData = yield {\n",
              "      promise: fileDataPromise,\n",
              "      response: {\n",
              "        action: 'continue',\n",
              "      }\n",
              "    };\n",
              "\n",
              "    // Use a chunked sending to avoid message size limits. See b/62115660.\n",
              "    let position = 0;\n",
              "    do {\n",
              "      const length = Math.min(fileData.byteLength - position, MAX_PAYLOAD_SIZE);\n",
              "      const chunk = new Uint8Array(fileData, position, length);\n",
              "      position += length;\n",
              "\n",
              "      const base64 = btoa(String.fromCharCode.apply(null, chunk));\n",
              "      yield {\n",
              "        response: {\n",
              "          action: 'append',\n",
              "          file: file.name,\n",
              "          data: base64,\n",
              "        },\n",
              "      };\n",
              "\n",
              "      let percentDone = fileData.byteLength === 0 ?\n",
              "          100 :\n",
              "          Math.round((position / fileData.byteLength) * 100);\n",
              "      percent.textContent = `${percentDone}% done`;\n",
              "\n",
              "    } while (position < fileData.byteLength);\n",
              "  }\n",
              "\n",
              "  // All done.\n",
              "  yield {\n",
              "    response: {\n",
              "      action: 'complete',\n",
              "    }\n",
              "  };\n",
              "}\n",
              "\n",
              "scope.google = scope.google || {};\n",
              "scope.google.colab = scope.google.colab || {};\n",
              "scope.google.colab._files = {\n",
              "  _uploadFiles,\n",
              "  _uploadFilesContinue,\n",
              "};\n",
              "})(self);\n",
              "</script> "
            ]
          },
          "metadata": {}
        },
        {
          "output_type": "stream",
          "name": "stdout",
          "text": [
            "Saving jd.CSV - jd.CSV.csv to jd.CSV - jd.CSV.csv\n"
          ]
        }
      ]
    },
    {
      "cell_type": "code",
      "source": [
        "import io\n",
        "df = pd.read_csv(io.BytesIO(uploaded['jd.CSV - jd.CSV.csv']))"
      ],
      "metadata": {
        "id": "FiE3c2h2E6gW",
        "execution": {
          "iopub.status.busy": "2021-06-17T12:11:18.804282Z",
          "iopub.execute_input": "2021-06-17T12:11:18.804841Z",
          "iopub.status.idle": "2021-06-17T12:11:21.146235Z",
          "shell.execute_reply.started": "2021-06-17T12:11:18.804790Z",
          "shell.execute_reply": "2021-06-17T12:11:21.145237Z"
        },
        "trusted": true
      },
      "execution_count": null,
      "outputs": []
    },
    {
      "cell_type": "code",
      "source": [
        "df.head()"
      ],
      "metadata": {
        "colab": {
          "base_uri": "https://localhost:8080/",
          "height": 206
        },
        "id": "e0Dnbmm99Hut",
        "outputId": "eab2f611-704e-43fc-9293-a6f70df9f07e"
      },
      "execution_count": null,
      "outputs": [
        {
          "output_type": "execute_result",
          "data": {
            "text/plain": [
              "     job_no                                    job_description  \\\n",
              "0  Id-17264   Zest Scientific is searching for an accomplis...   \n",
              "1  Id-22925  En el mundo de los CRO's típicos, esta compañí...   \n",
              "2   Id-1321  Asha Mistry of Umbilical Life is recruiting an...   \n",
              "3   Id-9473   Sales Representative - Laser in der Medizinte...   \n",
              "4  Id-14952  Field Service Engineer - Life Science\\n\\n\\nCam...   \n",
              "\n",
              "           job_type                                      category  \n",
              "0         Permanent  Pharmaceutical, Healthcare and Medical Sales  \n",
              "1         Permanent                             Clinical Research  \n",
              "2  Contract/Interim                      Pharmaceutical Marketing  \n",
              "3         Permanent  Pharmaceutical, Healthcare and Medical Sales  \n",
              "4         Permanent                    Manufacturing & Operations  "
            ],
            "text/html": [
              "\n",
              "  <div id=\"df-d769ebb9-08a1-4b2e-b593-db9e5c175602\">\n",
              "    <div class=\"colab-df-container\">\n",
              "      <div>\n",
              "<style scoped>\n",
              "    .dataframe tbody tr th:only-of-type {\n",
              "        vertical-align: middle;\n",
              "    }\n",
              "\n",
              "    .dataframe tbody tr th {\n",
              "        vertical-align: top;\n",
              "    }\n",
              "\n",
              "    .dataframe thead th {\n",
              "        text-align: right;\n",
              "    }\n",
              "</style>\n",
              "<table border=\"1\" class=\"dataframe\">\n",
              "  <thead>\n",
              "    <tr style=\"text-align: right;\">\n",
              "      <th></th>\n",
              "      <th>job_no</th>\n",
              "      <th>job_description</th>\n",
              "      <th>job_type</th>\n",
              "      <th>category</th>\n",
              "    </tr>\n",
              "  </thead>\n",
              "  <tbody>\n",
              "    <tr>\n",
              "      <th>0</th>\n",
              "      <td>Id-17264</td>\n",
              "      <td>Zest Scientific is searching for an accomplis...</td>\n",
              "      <td>Permanent</td>\n",
              "      <td>Pharmaceutical, Healthcare and Medical Sales</td>\n",
              "    </tr>\n",
              "    <tr>\n",
              "      <th>1</th>\n",
              "      <td>Id-22925</td>\n",
              "      <td>En el mundo de los CRO's típicos, esta compañí...</td>\n",
              "      <td>Permanent</td>\n",
              "      <td>Clinical Research</td>\n",
              "    </tr>\n",
              "    <tr>\n",
              "      <th>2</th>\n",
              "      <td>Id-1321</td>\n",
              "      <td>Asha Mistry of Umbilical Life is recruiting an...</td>\n",
              "      <td>Contract/Interim</td>\n",
              "      <td>Pharmaceutical Marketing</td>\n",
              "    </tr>\n",
              "    <tr>\n",
              "      <th>3</th>\n",
              "      <td>Id-9473</td>\n",
              "      <td>Sales Representative - Laser in der Medizinte...</td>\n",
              "      <td>Permanent</td>\n",
              "      <td>Pharmaceutical, Healthcare and Medical Sales</td>\n",
              "    </tr>\n",
              "    <tr>\n",
              "      <th>4</th>\n",
              "      <td>Id-14952</td>\n",
              "      <td>Field Service Engineer - Life Science\\n\\n\\nCam...</td>\n",
              "      <td>Permanent</td>\n",
              "      <td>Manufacturing &amp; Operations</td>\n",
              "    </tr>\n",
              "  </tbody>\n",
              "</table>\n",
              "</div>\n",
              "      <button class=\"colab-df-convert\" onclick=\"convertToInteractive('df-d769ebb9-08a1-4b2e-b593-db9e5c175602')\"\n",
              "              title=\"Convert this dataframe to an interactive table.\"\n",
              "              style=\"display:none;\">\n",
              "        \n",
              "  <svg xmlns=\"http://www.w3.org/2000/svg\" height=\"24px\"viewBox=\"0 0 24 24\"\n",
              "       width=\"24px\">\n",
              "    <path d=\"M0 0h24v24H0V0z\" fill=\"none\"/>\n",
              "    <path d=\"M18.56 5.44l.94 2.06.94-2.06 2.06-.94-2.06-.94-.94-2.06-.94 2.06-2.06.94zm-11 1L8.5 8.5l.94-2.06 2.06-.94-2.06-.94L8.5 2.5l-.94 2.06-2.06.94zm10 10l.94 2.06.94-2.06 2.06-.94-2.06-.94-.94-2.06-.94 2.06-2.06.94z\"/><path d=\"M17.41 7.96l-1.37-1.37c-.4-.4-.92-.59-1.43-.59-.52 0-1.04.2-1.43.59L10.3 9.45l-7.72 7.72c-.78.78-.78 2.05 0 2.83L4 21.41c.39.39.9.59 1.41.59.51 0 1.02-.2 1.41-.59l7.78-7.78 2.81-2.81c.8-.78.8-2.07 0-2.86zM5.41 20L4 18.59l7.72-7.72 1.47 1.35L5.41 20z\"/>\n",
              "  </svg>\n",
              "      </button>\n",
              "      \n",
              "  <style>\n",
              "    .colab-df-container {\n",
              "      display:flex;\n",
              "      flex-wrap:wrap;\n",
              "      gap: 12px;\n",
              "    }\n",
              "\n",
              "    .colab-df-convert {\n",
              "      background-color: #E8F0FE;\n",
              "      border: none;\n",
              "      border-radius: 50%;\n",
              "      cursor: pointer;\n",
              "      display: none;\n",
              "      fill: #1967D2;\n",
              "      height: 32px;\n",
              "      padding: 0 0 0 0;\n",
              "      width: 32px;\n",
              "    }\n",
              "\n",
              "    .colab-df-convert:hover {\n",
              "      background-color: #E2EBFA;\n",
              "      box-shadow: 0px 1px 2px rgba(60, 64, 67, 0.3), 0px 1px 3px 1px rgba(60, 64, 67, 0.15);\n",
              "      fill: #174EA6;\n",
              "    }\n",
              "\n",
              "    [theme=dark] .colab-df-convert {\n",
              "      background-color: #3B4455;\n",
              "      fill: #D2E3FC;\n",
              "    }\n",
              "\n",
              "    [theme=dark] .colab-df-convert:hover {\n",
              "      background-color: #434B5C;\n",
              "      box-shadow: 0px 1px 3px 1px rgba(0, 0, 0, 0.15);\n",
              "      filter: drop-shadow(0px 1px 2px rgba(0, 0, 0, 0.3));\n",
              "      fill: #FFFFFF;\n",
              "    }\n",
              "  </style>\n",
              "\n",
              "      <script>\n",
              "        const buttonEl =\n",
              "          document.querySelector('#df-d769ebb9-08a1-4b2e-b593-db9e5c175602 button.colab-df-convert');\n",
              "        buttonEl.style.display =\n",
              "          google.colab.kernel.accessAllowed ? 'block' : 'none';\n",
              "\n",
              "        async function convertToInteractive(key) {\n",
              "          const element = document.querySelector('#df-d769ebb9-08a1-4b2e-b593-db9e5c175602');\n",
              "          const dataTable =\n",
              "            await google.colab.kernel.invokeFunction('convertToInteractive',\n",
              "                                                     [key], {});\n",
              "          if (!dataTable) return;\n",
              "\n",
              "          const docLinkHtml = 'Like what you see? Visit the ' +\n",
              "            '<a target=\"_blank\" href=https://colab.research.google.com/notebooks/data_table.ipynb>data table notebook</a>'\n",
              "            + ' to learn more about interactive tables.';\n",
              "          element.innerHTML = '';\n",
              "          dataTable['output_type'] = 'display_data';\n",
              "          await google.colab.output.renderOutput(dataTable, element);\n",
              "          const docLink = document.createElement('div');\n",
              "          docLink.innerHTML = docLinkHtml;\n",
              "          element.appendChild(docLink);\n",
              "        }\n",
              "      </script>\n",
              "    </div>\n",
              "  </div>\n",
              "  "
            ]
          },
          "metadata": {},
          "execution_count": 107
        }
      ]
    },
    {
      "cell_type": "code",
      "source": [
        "df = df.dropna()\n",
        "df.info()\n",
        "df = df.head(5000)\n"
      ],
      "metadata": {
        "id": "mglptoFp-jVO",
        "colab": {
          "base_uri": "https://localhost:8080/"
        },
        "outputId": "5996a107-d1fa-4e4c-dc2b-ea15726ecb03"
      },
      "execution_count": null,
      "outputs": [
        {
          "output_type": "stream",
          "name": "stdout",
          "text": [
            "<class 'pandas.core.frame.DataFrame'>\n",
            "Int64Index: 17657 entries, 0 to 17656\n",
            "Data columns (total 4 columns):\n",
            " #   Column           Non-Null Count  Dtype \n",
            "---  ------           --------------  ----- \n",
            " 0   job_no           17657 non-null  object\n",
            " 1   job_description  17657 non-null  object\n",
            " 2   job_type         17657 non-null  object\n",
            " 3   category         17657 non-null  object\n",
            "dtypes: object(4)\n",
            "memory usage: 689.7+ KB\n"
          ]
        }
      ]
    },
    {
      "cell_type": "code",
      "source": [
        "from sklearn.model_selection import train_test_split\n",
        "\n",
        "y = df['category']\n",
        "X = df[['job_no','job_description','job_type']]\n",
        "\n",
        "X_train, X_test, y_train, y_test = train_test_split( X, y, test_size=0.20, random_state=42, stratify=y)\n",
        "\n",
        "train = pd.concat([X_train,y_train], axis=1)\n",
        "\n",
        "test = pd.concat([X_test,y_test], axis=1)"
      ],
      "metadata": {
        "id": "wQ61Kt9S9gTl"
      },
      "execution_count": null,
      "outputs": []
    },
    {
      "cell_type": "code",
      "source": [
        "train.head() # we have 6 classes in 'job_type' and 11 classes in  'category'"
      ],
      "metadata": {
        "id": "VE56LPOJE606",
        "outputId": "5bf0662f-6ed2-4ff4-e5b9-67992bd8941a",
        "execution": {
          "iopub.status.busy": "2021-06-17T12:11:24.593382Z",
          "iopub.execute_input": "2021-06-17T12:11:24.593747Z",
          "iopub.status.idle": "2021-06-17T12:11:24.621583Z",
          "shell.execute_reply.started": "2021-06-17T12:11:24.593718Z",
          "shell.execute_reply": "2021-06-17T12:11:24.620590Z"
        },
        "trusted": true,
        "colab": {
          "base_uri": "https://localhost:8080/",
          "height": 206
        }
      },
      "execution_count": null,
      "outputs": [
        {
          "output_type": "execute_result",
          "data": {
            "text/plain": [
              "        job_no                                    job_description   job_type  \\\n",
              "3774    Id-881  A great opportunity for a life science-based g...  Permanent   \n",
              "666    Id-5415   PhD Holder? Medical Writer - Boston\\n\\n\\nMy c...  Permanent   \n",
              "2526  Id-23266  Gerente de Cuentas Senior - Imágenes Quirúrgic...  Permanent   \n",
              "118   Id-15040   Quality Control Technologist - Hertfordshire ...  Permanent   \n",
              "4909  Id-18278  I am recruiting for several SCRAs / Senior Cli...  Permanent   \n",
              "\n",
              "                                          category  \n",
              "3774  Pharmaceutical, Healthcare and Medical Sales  \n",
              "666                             Regulatory Affairs  \n",
              "2526  Pharmaceutical, Healthcare and Medical Sales  \n",
              "118                              Quality-assurance  \n",
              "4909                                       Science  "
            ],
            "text/html": [
              "\n",
              "  <div id=\"df-88eec029-db7b-4385-92dc-f6765243414b\">\n",
              "    <div class=\"colab-df-container\">\n",
              "      <div>\n",
              "<style scoped>\n",
              "    .dataframe tbody tr th:only-of-type {\n",
              "        vertical-align: middle;\n",
              "    }\n",
              "\n",
              "    .dataframe tbody tr th {\n",
              "        vertical-align: top;\n",
              "    }\n",
              "\n",
              "    .dataframe thead th {\n",
              "        text-align: right;\n",
              "    }\n",
              "</style>\n",
              "<table border=\"1\" class=\"dataframe\">\n",
              "  <thead>\n",
              "    <tr style=\"text-align: right;\">\n",
              "      <th></th>\n",
              "      <th>job_no</th>\n",
              "      <th>job_description</th>\n",
              "      <th>job_type</th>\n",
              "      <th>category</th>\n",
              "    </tr>\n",
              "  </thead>\n",
              "  <tbody>\n",
              "    <tr>\n",
              "      <th>3774</th>\n",
              "      <td>Id-881</td>\n",
              "      <td>A great opportunity for a life science-based g...</td>\n",
              "      <td>Permanent</td>\n",
              "      <td>Pharmaceutical, Healthcare and Medical Sales</td>\n",
              "    </tr>\n",
              "    <tr>\n",
              "      <th>666</th>\n",
              "      <td>Id-5415</td>\n",
              "      <td>PhD Holder? Medical Writer - Boston\\n\\n\\nMy c...</td>\n",
              "      <td>Permanent</td>\n",
              "      <td>Regulatory Affairs</td>\n",
              "    </tr>\n",
              "    <tr>\n",
              "      <th>2526</th>\n",
              "      <td>Id-23266</td>\n",
              "      <td>Gerente de Cuentas Senior - Imágenes Quirúrgic...</td>\n",
              "      <td>Permanent</td>\n",
              "      <td>Pharmaceutical, Healthcare and Medical Sales</td>\n",
              "    </tr>\n",
              "    <tr>\n",
              "      <th>118</th>\n",
              "      <td>Id-15040</td>\n",
              "      <td>Quality Control Technologist - Hertfordshire ...</td>\n",
              "      <td>Permanent</td>\n",
              "      <td>Quality-assurance</td>\n",
              "    </tr>\n",
              "    <tr>\n",
              "      <th>4909</th>\n",
              "      <td>Id-18278</td>\n",
              "      <td>I am recruiting for several SCRAs / Senior Cli...</td>\n",
              "      <td>Permanent</td>\n",
              "      <td>Science</td>\n",
              "    </tr>\n",
              "  </tbody>\n",
              "</table>\n",
              "</div>\n",
              "      <button class=\"colab-df-convert\" onclick=\"convertToInteractive('df-88eec029-db7b-4385-92dc-f6765243414b')\"\n",
              "              title=\"Convert this dataframe to an interactive table.\"\n",
              "              style=\"display:none;\">\n",
              "        \n",
              "  <svg xmlns=\"http://www.w3.org/2000/svg\" height=\"24px\"viewBox=\"0 0 24 24\"\n",
              "       width=\"24px\">\n",
              "    <path d=\"M0 0h24v24H0V0z\" fill=\"none\"/>\n",
              "    <path d=\"M18.56 5.44l.94 2.06.94-2.06 2.06-.94-2.06-.94-.94-2.06-.94 2.06-2.06.94zm-11 1L8.5 8.5l.94-2.06 2.06-.94-2.06-.94L8.5 2.5l-.94 2.06-2.06.94zm10 10l.94 2.06.94-2.06 2.06-.94-2.06-.94-.94-2.06-.94 2.06-2.06.94z\"/><path d=\"M17.41 7.96l-1.37-1.37c-.4-.4-.92-.59-1.43-.59-.52 0-1.04.2-1.43.59L10.3 9.45l-7.72 7.72c-.78.78-.78 2.05 0 2.83L4 21.41c.39.39.9.59 1.41.59.51 0 1.02-.2 1.41-.59l7.78-7.78 2.81-2.81c.8-.78.8-2.07 0-2.86zM5.41 20L4 18.59l7.72-7.72 1.47 1.35L5.41 20z\"/>\n",
              "  </svg>\n",
              "      </button>\n",
              "      \n",
              "  <style>\n",
              "    .colab-df-container {\n",
              "      display:flex;\n",
              "      flex-wrap:wrap;\n",
              "      gap: 12px;\n",
              "    }\n",
              "\n",
              "    .colab-df-convert {\n",
              "      background-color: #E8F0FE;\n",
              "      border: none;\n",
              "      border-radius: 50%;\n",
              "      cursor: pointer;\n",
              "      display: none;\n",
              "      fill: #1967D2;\n",
              "      height: 32px;\n",
              "      padding: 0 0 0 0;\n",
              "      width: 32px;\n",
              "    }\n",
              "\n",
              "    .colab-df-convert:hover {\n",
              "      background-color: #E2EBFA;\n",
              "      box-shadow: 0px 1px 2px rgba(60, 64, 67, 0.3), 0px 1px 3px 1px rgba(60, 64, 67, 0.15);\n",
              "      fill: #174EA6;\n",
              "    }\n",
              "\n",
              "    [theme=dark] .colab-df-convert {\n",
              "      background-color: #3B4455;\n",
              "      fill: #D2E3FC;\n",
              "    }\n",
              "\n",
              "    [theme=dark] .colab-df-convert:hover {\n",
              "      background-color: #434B5C;\n",
              "      box-shadow: 0px 1px 3px 1px rgba(0, 0, 0, 0.15);\n",
              "      filter: drop-shadow(0px 1px 2px rgba(0, 0, 0, 0.3));\n",
              "      fill: #FFFFFF;\n",
              "    }\n",
              "  </style>\n",
              "\n",
              "      <script>\n",
              "        const buttonEl =\n",
              "          document.querySelector('#df-88eec029-db7b-4385-92dc-f6765243414b button.colab-df-convert');\n",
              "        buttonEl.style.display =\n",
              "          google.colab.kernel.accessAllowed ? 'block' : 'none';\n",
              "\n",
              "        async function convertToInteractive(key) {\n",
              "          const element = document.querySelector('#df-88eec029-db7b-4385-92dc-f6765243414b');\n",
              "          const dataTable =\n",
              "            await google.colab.kernel.invokeFunction('convertToInteractive',\n",
              "                                                     [key], {});\n",
              "          if (!dataTable) return;\n",
              "\n",
              "          const docLinkHtml = 'Like what you see? Visit the ' +\n",
              "            '<a target=\"_blank\" href=https://colab.research.google.com/notebooks/data_table.ipynb>data table notebook</a>'\n",
              "            + ' to learn more about interactive tables.';\n",
              "          element.innerHTML = '';\n",
              "          dataTable['output_type'] = 'display_data';\n",
              "          await google.colab.output.renderOutput(dataTable, element);\n",
              "          const docLink = document.createElement('div');\n",
              "          docLink.innerHTML = docLinkHtml;\n",
              "          element.appendChild(docLink);\n",
              "        }\n",
              "      </script>\n",
              "    </div>\n",
              "  </div>\n",
              "  "
            ]
          },
          "metadata": {},
          "execution_count": 110
        }
      ]
    },
    {
      "cell_type": "code",
      "source": [
        "test.info()"
      ],
      "metadata": {
        "colab": {
          "base_uri": "https://localhost:8080/"
        },
        "id": "8IN4n-Q0B3ND",
        "outputId": "a3c0d251-9535-4ecd-f1a4-7a65fbf747f9"
      },
      "execution_count": null,
      "outputs": [
        {
          "output_type": "stream",
          "name": "stdout",
          "text": [
            "<class 'pandas.core.frame.DataFrame'>\n",
            "Int64Index: 1000 entries, 4416 to 3064\n",
            "Data columns (total 4 columns):\n",
            " #   Column           Non-Null Count  Dtype \n",
            "---  ------           --------------  ----- \n",
            " 0   job_no           1000 non-null   object\n",
            " 1   job_description  1000 non-null   object\n",
            " 2   job_type         1000 non-null   object\n",
            " 3   category         1000 non-null   object\n",
            "dtypes: object(4)\n",
            "memory usage: 39.1+ KB\n"
          ]
        }
      ]
    },
    {
      "cell_type": "code",
      "source": [
        "train.isnull().sum() # Verifying if needs any null modification !!"
      ],
      "metadata": {
        "id": "Kl3X-oMNE6zO",
        "outputId": "5b7faed3-158a-48cd-fe2d-f38bc901d204",
        "execution": {
          "iopub.status.busy": "2021-06-17T12:11:25.410731Z",
          "iopub.execute_input": "2021-06-17T12:11:25.411072Z",
          "iopub.status.idle": "2021-06-17T12:11:25.422527Z",
          "shell.execute_reply.started": "2021-06-17T12:11:25.411040Z",
          "shell.execute_reply": "2021-06-17T12:11:25.421460Z"
        },
        "trusted": true,
        "colab": {
          "base_uri": "https://localhost:8080/"
        }
      },
      "execution_count": null,
      "outputs": [
        {
          "output_type": "execute_result",
          "data": {
            "text/plain": [
              "job_no             0\n",
              "job_description    0\n",
              "job_type           0\n",
              "category           0\n",
              "dtype: int64"
            ]
          },
          "metadata": {},
          "execution_count": 112
        }
      ]
    },
    {
      "cell_type": "code",
      "source": [
        "train['job_description'][0]"
      ],
      "metadata": {
        "id": "0MEoM3LMBxvA",
        "outputId": "e43ae84c-601d-4b17-c11c-edc3fffd7776",
        "execution": {
          "iopub.status.busy": "2021-06-17T12:11:26.219555Z",
          "iopub.execute_input": "2021-06-17T12:11:26.220025Z",
          "iopub.status.idle": "2021-06-17T12:11:26.228037Z",
          "shell.execute_reply.started": "2021-06-17T12:11:26.219983Z",
          "shell.execute_reply": "2021-06-17T12:11:26.226844Z"
        },
        "trusted": true,
        "colab": {
          "base_uri": "https://localhost:8080/",
          "height": 139
        }
      },
      "execution_count": null,
      "outputs": [
        {
          "output_type": "execute_result",
          "data": {
            "text/plain": [
              "\" Zest Scientific is searching for an accomplished Scientific Sales professional in the Netherlands. This territory will play a pivotal role as the company increases their presence across Europe, presenting a wealth of untapped potential. Our client is internationally recognized for providing 'best in class' solutions. This region provides excellent growth opportunities for a motivated and entrepreneurial Technical Sales Specialist. This is a highly autonomous role where your input will be encouraged and you will be provided with the platform in which to implement your own selling methods / business plan.\\n\\n\\nThe Candidate:\\n\\n\\n * You will demonstrate a successful track record selling into academic research, clinical diagnostics / hospital laboratories or biotech accounts.\\n\\n\\n * Ability to learn new scientific concepts as you will be required to take a 'hands on' approach supporting customers at all stages of the sales process.\\n\\n\\n * Independent and comfortable working with limited support.\\n\\n\\n * Enterprising with a willingness to exceed customer expectations.\\n\\n\\n * Excellent relationship builder and first class communicator.\\n\\n\\nThe Role:\\n\\n\\n * Responsible for delivering an annual sales plan, developing existing key accounts and strategically identifying new development opportunities within Clinical Diagnostics Laboratories / Clinical Chemistry.\\n\\n\\n * Targeting high value potential customers and leveraging influence within existing accounts.\\n\\n\\n * High degree of autonomy (limited direct management) with the freedom to carve out a profitable territory across the Netherlands.\\n\\n\\nThe Company:\\n\\n\\n * Global presence, offering 'best in class' solutions.\\n\\n\\n * Provides extensive in house training as the company believes that the Technical Sales Specialist should provide first class post-sales support and maintain close working relationships with end users.\\n\\n\\n * Currently experiencing excellent levels of growth with new product lines being added to the portfolio, providing a comprehensive solution to Clinical Labs.\\n\\n\\nRemuneration:\\n\\n\\nIn order to secure the services of the right quality of candidate the client is offering a highly attractive salary and commission package. Additional benefits include Car, Healthcare and Pension. Zest Scientific is working to a strict deadline so in order to be considered for this opportunity please apply now and your application will be reviewed immediately. \\n\\n\\nApply Now\\n\\n\\nRef no: 338477-2989\""
            ],
            "application/vnd.google.colaboratory.intrinsic+json": {
              "type": "string"
            }
          },
          "metadata": {},
          "execution_count": 113
        }
      ]
    },
    {
      "cell_type": "code",
      "source": [
        "print('Class counts for Job_type : \\n',train['job_type'].value_counts())\n",
        "\n",
        "fig, ax = plt.subplots()\n",
        "fig.suptitle('job_type', fontsize=12)\n",
        "train['job_type'].reset_index().groupby('job_type').count().sort_values(by=\n",
        "       \"index\").plot(kind=\"barh\", legend=False,\n",
        "        ax=ax).grid(axis='x')\n",
        "plt.show()\n"
      ],
      "metadata": {
        "id": "Dlv1h5fSE6wk",
        "outputId": "ea0ad540-5d86-431e-a1e8-75070b0edaf5",
        "execution": {
          "iopub.status.busy": "2021-06-17T12:11:29.182733Z",
          "iopub.execute_input": "2021-06-17T12:11:29.183074Z",
          "iopub.status.idle": "2021-06-17T12:11:29.404783Z",
          "shell.execute_reply.started": "2021-06-17T12:11:29.183044Z",
          "shell.execute_reply": "2021-06-17T12:11:29.403624Z"
        },
        "trusted": true,
        "colab": {
          "base_uri": "https://localhost:8080/",
          "height": 433
        }
      },
      "execution_count": null,
      "outputs": [
        {
          "output_type": "stream",
          "name": "stdout",
          "text": [
            "Class counts for Job_type : \n",
            " Permanent             3562\n",
            "Contract/Interim       330\n",
            "Contract/Temp           64\n",
            "Temporary/Seasonal      35\n",
            "Part-Time                5\n",
            "Any                      4\n",
            "Name: job_type, dtype: int64\n"
          ]
        },
        {
          "output_type": "display_data",
          "data": {
            "text/plain": [
              "<Figure size 432x288 with 1 Axes>"
            ],
            "image/png": "[encoded data removed]"
          },
          "metadata": {
            "needs_background": "light"
          }
        }
      ]
    },
    {
      "cell_type": "code",
      "source": [
        "\n",
        "print('Class counts for category : \\n',train['category'].value_counts())\n",
        "\n",
        "fig, ax = plt.subplots()\n",
        "fig.suptitle('category', fontsize=12)\n",
        "train['category'].reset_index().groupby('category').count().sort_values(by=\n",
        "       \"index\").plot(kind=\"barh\", legend=False,\n",
        "        ax=ax).grid(axis='x')\n",
        "plt.show()"
      ],
      "metadata": {
        "id": "DlLDhoA6E6uh",
        "outputId": "78afcbf7-442d-415b-f206-1fe47fdfd32f",
        "execution": {
          "iopub.status.busy": "2021-06-17T12:11:30.057435Z",
          "iopub.execute_input": "2021-06-17T12:11:30.057860Z",
          "iopub.status.idle": "2021-06-17T12:11:30.262038Z",
          "shell.execute_reply.started": "2021-06-17T12:11:30.057825Z",
          "shell.execute_reply": "2021-06-17T12:11:30.260629Z"
        },
        "trusted": true,
        "colab": {
          "base_uri": "https://localhost:8080/",
          "height": 520
        }
      },
      "execution_count": null,
      "outputs": [
        {
          "output_type": "stream",
          "name": "stdout",
          "text": [
            "Class counts for category : \n",
            " Pharmaceutical, Healthcare and Medical Sales    1021\n",
            "Clinical Research                                727\n",
            "Science                                          686\n",
            "Manufacturing & Operations                       486\n",
            "Pharmaceutical Marketing                         259\n",
            "Regulatory Affairs                               255\n",
            "Data Management and Statistics                   183\n",
            "Quality-assurance                                149\n",
            "Medical Information and Pharmacovigilance        139\n",
            "Medical Affairs / Pharmaceutical Physician        88\n",
            "Pharmacy                                           7\n",
            "Name: category, dtype: int64\n"
          ]
        },
        {
          "output_type": "display_data",
          "data": {
            "text/plain": [
              "<Figure size 432x288 with 1 Axes>"
            ],
            "image/png": "[encoded data removed]"
          },
          "metadata": {
            "needs_background": "light"
          }
        }
      ]
    },
    {
      "cell_type": "code",
      "source": [
        "# Lets focus on job description !!!\n",
        "\n",
        "# Steps to be taken :\n",
        "#\n",
        "#     1. Text pre-processing:\n",
        "#         1.1 Normalize case\n",
        "#         1.2 Special character\n",
        "#         1.3 Stop words\n",
        "#         1.4 White space\n",
        "#         1.5 Stemming\n",
        "\n",
        "#     2. Feature extraction:\n",
        "#         2.1 Word2vec embedding"
      ],
      "metadata": {
        "id": "PLjddWFtE6r2",
        "execution": {
          "iopub.status.busy": "2021-06-17T12:11:30.759155Z",
          "iopub.execute_input": "2021-06-17T12:11:30.759572Z",
          "iopub.status.idle": "2021-06-17T12:11:30.763890Z",
          "shell.execute_reply.started": "2021-06-17T12:11:30.759533Z",
          "shell.execute_reply": "2021-06-17T12:11:30.762865Z"
        },
        "trusted": true
      },
      "execution_count": null,
      "outputs": []
    },
    {
      "cell_type": "code",
      "source": [
        "# Cleaning Process:\n",
        "\n",
        "# For dates removal ~\n",
        "\n",
        "def is_valid_date(date_str): # sub function\n",
        "    try:\n",
        "        parser.parse(date_str)\n",
        "        return True\n",
        "    except:\n",
        "        return False\n",
        "\n",
        "def date_removal(data):\n",
        "    new_list = [' '.join([w for w in line.split() if not is_valid_date(w)]) for line in data]\n",
        "    return (new_list[0])\n",
        "\n",
        "def stemmer_and_stopWord(doc):\n",
        "\n",
        "    doc= nlp(doc)\n",
        "    token_list = []\n",
        "    for token in doc:\n",
        "      lemma = token.lemma_\n",
        "      if lemma == '-PRON-' or lemma == 'be':\n",
        "        lemma = token.text\n",
        "      token_list.append(lemma)\n",
        "\n",
        "    stemmed = token_list\n",
        "\n",
        "    # Create list of word tokens after removing stopwords\n",
        "\n",
        "    filtered_sentence =[]\n",
        "    for word in stemmed[:100]:\n",
        "        lexeme = nlp.vocab[word]\n",
        "        if lexeme.is_stop == False:\n",
        "            filtered_sentence.append(word)\n",
        "    return (' '.join(filtered_sentence))\n",
        "\n",
        "def normaliz(filtered_sentence):\n",
        "\n",
        "    words = [str(word).lower() for word in filtered_sentence.split()]\n",
        "    return  ' '.join(words[:100])\n",
        "\n",
        "# For number removal ~\n",
        "\n",
        "def numbers_removal(data):\n",
        "    s = [data]\n",
        "    result = ''.join([i for i in s if not i.isdigit()])\n",
        "    return (result)\n",
        "# For punchuation & double white spaces ~\n",
        "\n",
        "def punch_removal(words):\n",
        "    table = str.maketrans('', '', string.punctuation)\n",
        "    stripped = [w.translate(table) for w in [words]]\n",
        "    return re.sub(' +', ' ', stripped[:100][0])\n",
        "\n",
        "\n",
        "def cleaner(data):\n",
        "    string = [data]\n",
        "    string = date_removal(string)\n",
        "    # string = numbers_removal(string)\n",
        "    string = punch_removal(string)\n",
        "    string = stemmer_and_stopWord(string)\n",
        "    string = normaliz(string)\n",
        "    return string"
      ],
      "metadata": {
        "id": "ydin8np4E6pY",
        "execution": {
          "iopub.status.busy": "2021-06-17T12:11:31.610315Z",
          "iopub.execute_input": "2021-06-17T12:11:31.610698Z",
          "iopub.status.idle": "2021-06-17T12:11:31.623846Z",
          "shell.execute_reply.started": "2021-06-17T12:11:31.610658Z",
          "shell.execute_reply": "2021-06-17T12:11:31.622041Z"
        },
        "trusted": true
      },
      "execution_count": null,
      "outputs": []
    },
    {
      "cell_type": "code",
      "source": [
        "def cleaner(data):\n",
        "    string = [data]\n",
        "    string = date_removal(string)\n",
        "    # string = numbers_removal(string)\n",
        "    string = punch_removal(string)\n",
        "    string = stemmer_and_stopWord(string)\n",
        "    string = normaliz(string)\n",
        "    return string\n",
        "\n",
        "print('* --------------- for train data --------------- *')\n",
        "\n",
        "list=[]\n",
        "for i in train['job_description']: # cleansing !!\n",
        "    list.append(cleaner(i))\n",
        "\n",
        "train['job_description']=pd.Series(list) # updating the attributee !!\n",
        "\n",
        "print('* --------------- for test data --------------- *')\n",
        "\n",
        "list=[]\n",
        "for i in test['job_description']: # cleansing !!\n",
        "    list.append(cleaner(i))\n",
        "\n",
        "test['job_description']=pd.Series(list) # updating the attributee !!\n"
      ],
      "metadata": {
        "id": "7ipLiIofE6ny",
        "outputId": "5318570b-db4b-40ff-84e7-28d1a8ff168e",
        "execution": {
          "iopub.status.busy": "2021-06-17T12:11:33.052076Z",
          "iopub.execute_input": "2021-06-17T12:11:33.052418Z",
          "iopub.status.idle": "2021-06-17T12:39:50.064233Z",
          "shell.execute_reply.started": "2021-06-17T12:11:33.052388Z",
          "shell.execute_reply": "2021-06-17T12:39:50.063130Z"
        },
        "trusted": true,
        "colab": {
          "base_uri": "https://localhost:8080/"
        }
      },
      "execution_count": null,
      "outputs": [
        {
          "output_type": "stream",
          "name": "stdout",
          "text": [
            "* --------------- for train data --------------- *\n",
            "* --------------- for test data --------------- *\n"
          ]
        }
      ]
    },
    {
      "cell_type": "code",
      "source": [
        "## Feature extarction or EDA :"
      ],
      "metadata": {
        "id": "JqJtSta3E6lF",
        "execution": {
          "iopub.status.busy": "2021-06-17T12:39:50.066676Z",
          "iopub.execute_input": "2021-06-17T12:39:50.066986Z",
          "iopub.status.idle": "2021-06-17T12:39:50.070664Z",
          "shell.execute_reply.started": "2021-06-17T12:39:50.066950Z",
          "shell.execute_reply": "2021-06-17T12:39:50.069307Z"
        },
        "trusted": true
      },
      "execution_count": null,
      "outputs": []
    },
    {
      "cell_type": "code",
      "source": [
        "train = train.dropna()\n",
        "test = test.dropna()"
      ],
      "metadata": {
        "id": "RCJXq3BQATF-"
      },
      "execution_count": null,
      "outputs": []
    },
    {
      "cell_type": "code",
      "source": [
        "# adding a new attribute for differencing the language of teh 'job_description' !!\n",
        "\n",
        "import langdetect\n",
        "\n",
        "print('* ------------------------- for train data-------------------------------- *')\n",
        "\n",
        "train['lang'] = train[\"job_description\"].apply(lambda x: langdetect.detect(x) if x.strip() != \"\" else \"\")\n",
        "\n",
        "fig, ax = plt.subplots()\n",
        "fig.suptitle('lang', fontsize=12)\n",
        "train['lang'].reset_index().groupby('lang').count().sort_values(by= \"index\").plot(kind=\"barh\", legend=False, ax=ax).grid(axis='x')\n",
        "plt.show()\n",
        "\n",
        "print('* -------------------------- for test data ------------------------------- *')\n",
        "\n",
        "test['lang'] = test[\"job_description\"].apply(lambda x: langdetect.detect(x) if x.strip() != \"\" else \"\")\n",
        "\n",
        "fig, ax = plt.subplots()\n",
        "fig.suptitle('lang', fontsize=12)\n",
        "test['lang'].reset_index().groupby('lang').count().sort_values(by= \"index\").plot(kind=\"barh\", legend=False, ax=ax).grid(axis='x')\n",
        "plt.show()\n"
      ],
      "metadata": {
        "id": "0xR1YxwFE6jg",
        "outputId": "1e6ee6a1-fe6b-4f6e-cc61-595361734493",
        "execution": {
          "iopub.status.busy": "2021-06-17T12:39:50.072277Z",
          "iopub.execute_input": "2021-06-17T12:39:50.072571Z",
          "iopub.status.idle": "2021-06-17T12:43:44.606834Z",
          "shell.execute_reply.started": "2021-06-17T12:39:50.072543Z",
          "shell.execute_reply": "2021-06-17T12:43:44.605617Z"
        },
        "trusted": true,
        "colab": {
          "base_uri": "https://localhost:8080/",
          "height": 606
        }
      },
      "execution_count": null,
      "outputs": [
        {
          "output_type": "stream",
          "name": "stdout",
          "text": [
            "* ------------------------- for train data-------------------------------- *\n"
          ]
        },
        {
          "output_type": "display_data",
          "data": {
            "text/plain": [
              "<Figure size 432x288 with 1 Axes>"
            ],
            "image/png": "[encoded data removed]"
          },
          "metadata": {
            "needs_background": "light"
          }
        },
        {
          "output_type": "stream",
          "name": "stdout",
          "text": [
            "* -------------------------- for test data ------------------------------- *\n"
          ]
        },
        {
          "output_type": "display_data",
          "data": {
            "text/plain": [
              "<Figure size 432x288 with 1 Axes>"
            ],
            "image/png": "[encoded data removed]"
          },
          "metadata": {
            "needs_background": "light"
          }
        }
      ]
    },
    {
      "cell_type": "code",
      "source": [
        "train.reset_index(inplace = True)\n",
        "test.reset_index(inplace = True)"
      ],
      "metadata": {
        "id": "s9zywIKHENBk"
      },
      "execution_count": null,
      "outputs": []
    },
    {
      "cell_type": "code",
      "source": [
        "train.drop('index',axis = 1, inplace=True)\n",
        "test.drop('index',axis = 1, inplace=True)\n",
        "train.head()\n"
      ],
      "metadata": {
        "colab": {
          "base_uri": "https://localhost:8080/",
          "height": 206
        },
        "id": "i2BJ9tprEuKl",
        "outputId": "1dfe632d-5f17-4c4b-d99a-77927a8d098c"
      },
      "execution_count": null,
      "outputs": [
        {
          "output_type": "execute_result",
          "data": {
            "text/plain": [
              "     job_no                                    job_description   job_type  \\\n",
              "0    Id-881  exciting challenging opportunity arise product...  Permanent   \n",
              "1   Id-5415  ck group recruit clinical process analyst join...  Permanent   \n",
              "2  Id-23266  key account manager northern scotland carence ...  Permanent   \n",
              "3  Id-15040  área de terapia cardiovascular paquete salario...  Permanent   \n",
              "4   Id-3611  austin fraser work lead medical device company...  Permanent   \n",
              "\n",
              "                                       category lang  \n",
              "0  Pharmaceutical, Healthcare and Medical Sales   en  \n",
              "1                            Regulatory Affairs   en  \n",
              "2  Pharmaceutical, Healthcare and Medical Sales   fr  \n",
              "3                             Quality-assurance   es  \n",
              "4                    Manufacturing & Operations   en  "
            ],
            "text/html": [
              "\n",
              "  <div id=\"df-7218995c-d0ab-455c-b13a-9a44fda2fddb\">\n",
              "    <div class=\"colab-df-container\">\n",
              "      <div>\n",
              "<style scoped>\n",
              "    .dataframe tbody tr th:only-of-type {\n",
              "        vertical-align: middle;\n",
              "    }\n",
              "\n",
              "    .dataframe tbody tr th {\n",
              "        vertical-align: top;\n",
              "    }\n",
              "\n",
              "    .dataframe thead th {\n",
              "        text-align: right;\n",
              "    }\n",
              "</style>\n",
              "<table border=\"1\" class=\"dataframe\">\n",
              "  <thead>\n",
              "    <tr style=\"text-align: right;\">\n",
              "      <th></th>\n",
              "      <th>job_no</th>\n",
              "      <th>job_description</th>\n",
              "      <th>job_type</th>\n",
              "      <th>category</th>\n",
              "      <th>lang</th>\n",
              "    </tr>\n",
              "  </thead>\n",
              "  <tbody>\n",
              "    <tr>\n",
              "      <th>0</th>\n",
              "      <td>Id-881</td>\n",
              "      <td>exciting challenging opportunity arise product...</td>\n",
              "      <td>Permanent</td>\n",
              "      <td>Pharmaceutical, Healthcare and Medical Sales</td>\n",
              "      <td>en</td>\n",
              "    </tr>\n",
              "    <tr>\n",
              "      <th>1</th>\n",
              "      <td>Id-5415</td>\n",
              "      <td>ck group recruit clinical process analyst join...</td>\n",
              "      <td>Permanent</td>\n",
              "      <td>Regulatory Affairs</td>\n",
              "      <td>en</td>\n",
              "    </tr>\n",
              "    <tr>\n",
              "      <th>2</th>\n",
              "      <td>Id-23266</td>\n",
              "      <td>key account manager northern scotland carence ...</td>\n",
              "      <td>Permanent</td>\n",
              "      <td>Pharmaceutical, Healthcare and Medical Sales</td>\n",
              "      <td>fr</td>\n",
              "    </tr>\n",
              "    <tr>\n",
              "      <th>3</th>\n",
              "      <td>Id-15040</td>\n",
              "      <td>área de terapia cardiovascular paquete salario...</td>\n",
              "      <td>Permanent</td>\n",
              "      <td>Quality-assurance</td>\n",
              "      <td>es</td>\n",
              "    </tr>\n",
              "    <tr>\n",
              "      <th>4</th>\n",
              "      <td>Id-3611</td>\n",
              "      <td>austin fraser work lead medical device company...</td>\n",
              "      <td>Permanent</td>\n",
              "      <td>Manufacturing &amp; Operations</td>\n",
              "      <td>en</td>\n",
              "    </tr>\n",
              "  </tbody>\n",
              "</table>\n",
              "</div>\n",
              "      <button class=\"colab-df-convert\" onclick=\"convertToInteractive('df-7218995c-d0ab-455c-b13a-9a44fda2fddb')\"\n",
              "              title=\"Convert this dataframe to an interactive table.\"\n",
              "              style=\"display:none;\">\n",
              "        \n",
              "  <svg xmlns=\"http://www.w3.org/2000/svg\" height=\"24px\"viewBox=\"0 0 24 24\"\n",
              "       width=\"24px\">\n",
              "    <path d=\"M0 0h24v24H0V0z\" fill=\"none\"/>\n",
              "    <path d=\"M18.56 5.44l.94 2.06.94-2.06 2.06-.94-2.06-.94-.94-2.06-.94 2.06-2.06.94zm-11 1L8.5 8.5l.94-2.06 2.06-.94-2.06-.94L8.5 2.5l-.94 2.06-2.06.94zm10 10l.94 2.06.94-2.06 2.06-.94-2.06-.94-.94-2.06-.94 2.06-2.06.94z\"/><path d=\"M17.41 7.96l-1.37-1.37c-.4-.4-.92-.59-1.43-.59-.52 0-1.04.2-1.43.59L10.3 9.45l-7.72 7.72c-.78.78-.78 2.05 0 2.83L4 21.41c.39.39.9.59 1.41.59.51 0 1.02-.2 1.41-.59l7.78-7.78 2.81-2.81c.8-.78.8-2.07 0-2.86zM5.41 20L4 18.59l7.72-7.72 1.47 1.35L5.41 20z\"/>\n",
              "  </svg>\n",
              "      </button>\n",
              "      \n",
              "  <style>\n",
              "    .colab-df-container {\n",
              "      display:flex;\n",
              "      flex-wrap:wrap;\n",
              "      gap: 12px;\n",
              "    }\n",
              "\n",
              "    .colab-df-convert {\n",
              "      background-color: #E8F0FE;\n",
              "      border: none;\n",
              "      border-radius: 50%;\n",
              "      cursor: pointer;\n",
              "      display: none;\n",
              "      fill: #1967D2;\n",
              "      height: 32px;\n",
              "      padding: 0 0 0 0;\n",
              "      width: 32px;\n",
              "    }\n",
              "\n",
              "    .colab-df-convert:hover {\n",
              "      background-color: #E2EBFA;\n",
              "      box-shadow: 0px 1px 2px rgba(60, 64, 67, 0.3), 0px 1px 3px 1px rgba(60, 64, 67, 0.15);\n",
              "      fill: #174EA6;\n",
              "    }\n",
              "\n",
              "    [theme=dark] .colab-df-convert {\n",
              "      background-color: #3B4455;\n",
              "      fill: #D2E3FC;\n",
              "    }\n",
              "\n",
              "    [theme=dark] .colab-df-convert:hover {\n",
              "      background-color: #434B5C;\n",
              "      box-shadow: 0px 1px 3px 1px rgba(0, 0, 0, 0.15);\n",
              "      filter: drop-shadow(0px 1px 2px rgba(0, 0, 0, 0.3));\n",
              "      fill: #FFFFFF;\n",
              "    }\n",
              "  </style>\n",
              "\n",
              "      <script>\n",
              "        const buttonEl =\n",
              "          document.querySelector('#df-7218995c-d0ab-455c-b13a-9a44fda2fddb button.colab-df-convert');\n",
              "        buttonEl.style.display =\n",
              "          google.colab.kernel.accessAllowed ? 'block' : 'none';\n",
              "\n",
              "        async function convertToInteractive(key) {\n",
              "          const element = document.querySelector('#df-7218995c-d0ab-455c-b13a-9a44fda2fddb');\n",
              "          const dataTable =\n",
              "            await google.colab.kernel.invokeFunction('convertToInteractive',\n",
              "                                                     [key], {});\n",
              "          if (!dataTable) return;\n",
              "\n",
              "          const docLinkHtml = 'Like what you see? Visit the ' +\n",
              "            '<a target=\"_blank\" href=https://colab.research.google.com/notebooks/data_table.ipynb>data table notebook</a>'\n",
              "            + ' to learn more about interactive tables.';\n",
              "          element.innerHTML = '';\n",
              "          dataTable['output_type'] = 'display_data';\n",
              "          await google.colab.output.renderOutput(dataTable, element);\n",
              "          const docLink = document.createElement('div');\n",
              "          docLink.innerHTML = docLinkHtml;\n",
              "          element.appendChild(docLink);\n",
              "        }\n",
              "      </script>\n",
              "    </div>\n",
              "  </div>\n",
              "  "
            ]
          },
          "metadata": {},
          "execution_count": 123
        }
      ]
    },
    {
      "cell_type": "code",
      "source": [
        "train.info()"
      ],
      "metadata": {
        "colab": {
          "base_uri": "https://localhost:8080/"
        },
        "id": "5LTCxWC7FpyZ",
        "outputId": "3c73f947-d5eb-483f-e6bd-cf54fda2bb86"
      },
      "execution_count": null,
      "outputs": [
        {
          "output_type": "stream",
          "name": "stdout",
          "text": [
            "<class 'pandas.core.frame.DataFrame'>\n",
            "RangeIndex: 3194 entries, 0 to 3193\n",
            "Data columns (total 5 columns):\n",
            " #   Column           Non-Null Count  Dtype \n",
            "---  ------           --------------  ----- \n",
            " 0   job_no           3194 non-null   object\n",
            " 1   job_description  3194 non-null   object\n",
            " 2   job_type         3194 non-null   object\n",
            " 3   category         3194 non-null   object\n",
            " 4   lang             3194 non-null   object\n",
            "dtypes: object(5)\n",
            "memory usage: 124.9+ KB\n"
          ]
        }
      ]
    },
    {
      "cell_type": "code",
      "source": [
        "train[train['job_description'].isnull()].sum()"
      ],
      "metadata": {
        "colab": {
          "base_uri": "https://localhost:8080/"
        },
        "id": "x69UbJ2iHOn_",
        "outputId": "7a95f27d-ac7b-470a-9f92-a81a529b8c20"
      },
      "execution_count": null,
      "outputs": [
        {
          "output_type": "execute_result",
          "data": {
            "text/plain": [
              "job_no             0.0\n",
              "job_description    0.0\n",
              "job_type           0.0\n",
              "category           0.0\n",
              "lang               0.0\n",
              "dtype: float64"
            ]
          },
          "metadata": {},
          "execution_count": 125
        }
      ]
    },
    {
      "cell_type": "code",
      "source": [
        "# Feature Extraction from the job discription :\n",
        "\n",
        "print('* ------------------------- for train data-------------------------------- *')\n",
        "\n",
        "# the relevance of these feature will be tested on the later stages !!\n",
        "\n",
        "train['word_count'] = train[\"job_description\"].apply(lambda x:\n",
        "                                                     len(str(x).split(\" \")))\n",
        "train['char_count'] = train[\"job_description\"].apply(lambda x:\n",
        "                                                     sum(len(word)\n",
        "                                                     for word in str(x).split(\" \")))\n",
        "train['sentence_count'] = train[\"job_description\"].apply(lambda x:\n",
        "                                                         len(str(x).split(\".\")))\n",
        "train['avg_word_length'] = train['char_count'] / train['word_count']\n",
        "train['avg_sentence_lenght'] = train['word_count'] / train['sentence_count']\n",
        "\n",
        "print('* ------------------------- for test data-------------------------------- *')\n",
        "\n",
        "test['word_count'] = test[\"job_description\"].apply(lambda x:\n",
        "                                                   len(str(x).split(\" \")))\n",
        "test['char_count'] = test[\"job_description\"].apply(lambda x:\n",
        "                                                   sum(len(word)\n",
        "                                                   for word in str(x).split(\" \")))\n",
        "test['sentence_count'] = test[\"job_description\"].apply(lambda x:\n",
        "                                                       len(str(x).split(\".\")))\n",
        "test['avg_word_length'] = test['char_count'] / test['word_count']\n",
        "test['avg_sentence_lenght'] = test['word_count'] / test['sentence_count']\n"
      ],
      "metadata": {
        "id": "14OJXohnE6eF",
        "outputId": "a1d7058d-4ad4-410e-fdd0-d02b394e07f2",
        "execution": {
          "iopub.status.busy": "2021-06-17T12:47:16.672130Z",
          "iopub.execute_input": "2021-06-17T12:47:16.672624Z",
          "iopub.status.idle": "2021-06-17T12:47:17.226828Z",
          "shell.execute_reply.started": "2021-06-17T12:47:16.672591Z",
          "shell.execute_reply": "2021-06-17T12:47:17.226031Z"
        },
        "trusted": true,
        "colab": {
          "base_uri": "https://localhost:8080/"
        }
      },
      "execution_count": null,
      "outputs": [
        {
          "output_type": "stream",
          "name": "stdout",
          "text": [
            "* ------------------------- for train data-------------------------------- *\n",
            "* ------------------------- for test data-------------------------------- *\n"
          ]
        }
      ]
    },
    {
      "cell_type": "code",
      "source": [
        "# A bivariate distributions to look at the correlation of a attribute with the target class !!\n",
        "\n",
        "# conclusion : The categories have a similar length distribution but the samples have different sizes.\n",
        "\n",
        "x = 'word_count'\n",
        "y = 'job_type'\n",
        "\n",
        "fig, ax = plt.subplots(nrows=1, ncols=2)\n",
        "fig.suptitle(x, fontsize=12)\n",
        "for i in train[y].unique():\n",
        "    sns.distplot(train[train[y]==i][x], hist=True, kde=False,\n",
        "                 bins=10, hist_kws={\"alpha\":0.8},\n",
        "                 axlabel=\"histogram\", ax=ax[0])\n",
        "    sns.distplot(train[train[y]==i][x], hist=False, kde=True,\n",
        "                 kde_kws={\"shade\":True}, axlabel=\"density\",\n",
        "                 ax=ax[1])\n",
        "ax[0].grid(True)\n",
        "ax[0].legend(train[y].unique())\n",
        "ax[1].grid(True)\n",
        "plt.show()"
      ],
      "metadata": {
        "id": "VKztq5DiE6cG",
        "outputId": "9f0808bf-ccc9-41a4-f51b-b9dbef67e9ae",
        "execution": {
          "iopub.status.busy": "2021-06-17T12:47:19.084137Z",
          "iopub.execute_input": "2021-06-17T12:47:19.084636Z",
          "iopub.status.idle": "2021-06-17T12:47:19.789724Z",
          "shell.execute_reply.started": "2021-06-17T12:47:19.084602Z",
          "shell.execute_reply": "2021-06-17T12:47:19.788284Z"
        },
        "trusted": true,
        "colab": {
          "base_uri": "https://localhost:8080/",
          "height": 308
        }
      },
      "execution_count": null,
      "outputs": [
        {
          "output_type": "display_data",
          "data": {
            "text/plain": [
              "<Figure size 432x288 with 2 Axes>"
            ],
            "image/png": "[encoded data removed]"
          },
          "metadata": {
            "needs_background": "light"
          }
        }
      ]
    },
    {
      "cell_type": "code",
      "source": [
        "train.head()"
      ],
      "metadata": {
        "id": "F4iHGjKuOnGQ",
        "outputId": "881be5a0-6502-4094-cff1-5a760f0f3192",
        "execution": {
          "iopub.status.busy": "2021-06-17T12:47:20.710310Z",
          "iopub.execute_input": "2021-06-17T12:47:20.710687Z",
          "iopub.status.idle": "2021-06-17T12:47:20.727001Z",
          "shell.execute_reply.started": "2021-06-17T12:47:20.710652Z",
          "shell.execute_reply": "2021-06-17T12:47:20.725714Z"
        },
        "trusted": true,
        "colab": {
          "base_uri": "https://localhost:8080/",
          "height": 389
        }
      },
      "execution_count": null,
      "outputs": [
        {
          "output_type": "execute_result",
          "data": {
            "text/plain": [
              "     job_no                                    job_description   job_type  \\\n",
              "0    Id-881  exciting challenging opportunity arise product...  Permanent   \n",
              "1   Id-5415  ck group recruit clinical process analyst join...  Permanent   \n",
              "2  Id-23266  key account manager northern scotland carence ...  Permanent   \n",
              "3  Id-15040  área de terapia cardiovascular paquete salario...  Permanent   \n",
              "4   Id-3611  austin fraser work lead medical device company...  Permanent   \n",
              "\n",
              "                                       category lang  word_count  char_count  \\\n",
              "0  Pharmaceutical, Healthcare and Medical Sales   en          60         468   \n",
              "1                            Regulatory Affairs   en          69         448   \n",
              "2  Pharmaceutical, Healthcare and Medical Sales   fr          99         542   \n",
              "3                             Quality-assurance   es          99         557   \n",
              "4                    Manufacturing & Operations   en          58         400   \n",
              "\n",
              "   sentence_count  avg_word_length  avg_sentence_lenght  \n",
              "0               1         7.800000                 60.0  \n",
              "1               1         6.492754                 69.0  \n",
              "2               1         5.474747                 99.0  \n",
              "3               1         5.626263                 99.0  \n",
              "4               1         6.896552                 58.0  "
            ],
            "text/html": [
              "\n",
              "  <div id=\"df-d163099d-084b-406e-9ea5-1a88c726eab1\">\n",
              "    <div class=\"colab-df-container\">\n",
              "      <div>\n",
              "<style scoped>\n",
              "    .dataframe tbody tr th:only-of-type {\n",
              "        vertical-align: middle;\n",
              "    }\n",
              "\n",
              "    .dataframe tbody tr th {\n",
              "        vertical-align: top;\n",
              "    }\n",
              "\n",
              "    .dataframe thead th {\n",
              "        text-align: right;\n",
              "    }\n",
              "</style>\n",
              "<table border=\"1\" class=\"dataframe\">\n",
              "  <thead>\n",
              "    <tr style=\"text-align: right;\">\n",
              "      <th></th>\n",
              "      <th>job_no</th>\n",
              "      <th>job_description</th>\n",
              "      <th>job_type</th>\n",
              "      <th>category</th>\n",
              "      <th>lang</th>\n",
              "      <th>word_count</th>\n",
              "      <th>char_count</th>\n",
              "      <th>sentence_count</th>\n",
              "      <th>avg_word_length</th>\n",
              "      <th>avg_sentence_lenght</th>\n",
              "    </tr>\n",
              "  </thead>\n",
              "  <tbody>\n",
              "    <tr>\n",
              "      <th>0</th>\n",
              "      <td>Id-881</td>\n",
              "      <td>exciting challenging opportunity arise product...</td>\n",
              "      <td>Permanent</td>\n",
              "      <td>Pharmaceutical, Healthcare and Medical Sales</td>\n",
              "      <td>en</td>\n",
              "      <td>60</td>\n",
              "      <td>468</td>\n",
              "      <td>1</td>\n",
              "      <td>7.800000</td>\n",
              "      <td>60.0</td>\n",
              "    </tr>\n",
              "    <tr>\n",
              "      <th>1</th>\n",
              "      <td>Id-5415</td>\n",
              "      <td>ck group recruit clinical process analyst join...</td>\n",
              "      <td>Permanent</td>\n",
              "      <td>Regulatory Affairs</td>\n",
              "      <td>en</td>\n",
              "      <td>69</td>\n",
              "      <td>448</td>\n",
              "      <td>1</td>\n",
              "      <td>6.492754</td>\n",
              "      <td>69.0</td>\n",
              "    </tr>\n",
              "    <tr>\n",
              "      <th>2</th>\n",
              "      <td>Id-23266</td>\n",
              "      <td>key account manager northern scotland carence ...</td>\n",
              "      <td>Permanent</td>\n",
              "      <td>Pharmaceutical, Healthcare and Medical Sales</td>\n",
              "      <td>fr</td>\n",
              "      <td>99</td>\n",
              "      <td>542</td>\n",
              "      <td>1</td>\n",
              "      <td>5.474747</td>\n",
              "      <td>99.0</td>\n",
              "    </tr>\n",
              "    <tr>\n",
              "      <th>3</th>\n",
              "      <td>Id-15040</td>\n",
              "      <td>área de terapia cardiovascular paquete salario...</td>\n",
              "      <td>Permanent</td>\n",
              "      <td>Quality-assurance</td>\n",
              "      <td>es</td>\n",
              "      <td>99</td>\n",
              "      <td>557</td>\n",
              "      <td>1</td>\n",
              "      <td>5.626263</td>\n",
              "      <td>99.0</td>\n",
              "    </tr>\n",
              "    <tr>\n",
              "      <th>4</th>\n",
              "      <td>Id-3611</td>\n",
              "      <td>austin fraser work lead medical device company...</td>\n",
              "      <td>Permanent</td>\n",
              "      <td>Manufacturing &amp; Operations</td>\n",
              "      <td>en</td>\n",
              "      <td>58</td>\n",
              "      <td>400</td>\n",
              "      <td>1</td>\n",
              "      <td>6.896552</td>\n",
              "      <td>58.0</td>\n",
              "    </tr>\n",
              "  </tbody>\n",
              "</table>\n",
              "</div>\n",
              "      <button class=\"colab-df-convert\" onclick=\"convertToInteractive('df-d163099d-084b-406e-9ea5-1a88c726eab1')\"\n",
              "              title=\"Convert this dataframe to an interactive table.\"\n",
              "              style=\"display:none;\">\n",
              "        \n",
              "  <svg xmlns=\"http://www.w3.org/2000/svg\" height=\"24px\"viewBox=\"0 0 24 24\"\n",
              "       width=\"24px\">\n",
              "    <path d=\"M0 0h24v24H0V0z\" fill=\"none\"/>\n",
              "    <path d=\"M18.56 5.44l.94 2.06.94-2.06 2.06-.94-2.06-.94-.94-2.06-.94 2.06-2.06.94zm-11 1L8.5 8.5l.94-2.06 2.06-.94-2.06-.94L8.5 2.5l-.94 2.06-2.06.94zm10 10l.94 2.06.94-2.06 2.06-.94-2.06-.94-.94-2.06-.94 2.06-2.06.94z\"/><path d=\"M17.41 7.96l-1.37-1.37c-.4-.4-.92-.59-1.43-.59-.52 0-1.04.2-1.43.59L10.3 9.45l-7.72 7.72c-.78.78-.78 2.05 0 2.83L4 21.41c.39.39.9.59 1.41.59.51 0 1.02-.2 1.41-.59l7.78-7.78 2.81-2.81c.8-.78.8-2.07 0-2.86zM5.41 20L4 18.59l7.72-7.72 1.47 1.35L5.41 20z\"/>\n",
              "  </svg>\n",
              "      </button>\n",
              "      \n",
              "  <style>\n",
              "    .colab-df-container {\n",
              "      display:flex;\n",
              "      flex-wrap:wrap;\n",
              "      gap: 12px;\n",
              "    }\n",
              "\n",
              "    .colab-df-convert {\n",
              "      background-color: #E8F0FE;\n",
              "      border: none;\n",
              "      border-radius: 50%;\n",
              "      cursor: pointer;\n",
              "      display: none;\n",
              "      fill: #1967D2;\n",
              "      height: 32px;\n",
              "      padding: 0 0 0 0;\n",
              "      width: 32px;\n",
              "    }\n",
              "\n",
              "    .colab-df-convert:hover {\n",
              "      background-color: #E2EBFA;\n",
              "      box-shadow: 0px 1px 2px rgba(60, 64, 67, 0.3), 0px 1px 3px 1px rgba(60, 64, 67, 0.15);\n",
              "      fill: #174EA6;\n",
              "    }\n",
              "\n",
              "    [theme=dark] .colab-df-convert {\n",
              "      background-color: #3B4455;\n",
              "      fill: #D2E3FC;\n",
              "    }\n",
              "\n",
              "    [theme=dark] .colab-df-convert:hover {\n",
              "      background-color: #434B5C;\n",
              "      box-shadow: 0px 1px 3px 1px rgba(0, 0, 0, 0.15);\n",
              "      filter: drop-shadow(0px 1px 2px rgba(0, 0, 0, 0.3));\n",
              "      fill: #FFFFFF;\n",
              "    }\n",
              "  </style>\n",
              "\n",
              "      <script>\n",
              "        const buttonEl =\n",
              "          document.querySelector('#df-d163099d-084b-406e-9ea5-1a88c726eab1 button.colab-df-convert');\n",
              "        buttonEl.style.display =\n",
              "          google.colab.kernel.accessAllowed ? 'block' : 'none';\n",
              "\n",
              "        async function convertToInteractive(key) {\n",
              "          const element = document.querySelector('#df-d163099d-084b-406e-9ea5-1a88c726eab1');\n",
              "          const dataTable =\n",
              "            await google.colab.kernel.invokeFunction('convertToInteractive',\n",
              "                                                     [key], {});\n",
              "          if (!dataTable) return;\n",
              "\n",
              "          const docLinkHtml = 'Like what you see? Visit the ' +\n",
              "            '<a target=\"_blank\" href=https://colab.research.google.com/notebooks/data_table.ipynb>data table notebook</a>'\n",
              "            + ' to learn more about interactive tables.';\n",
              "          element.innerHTML = '';\n",
              "          dataTable['output_type'] = 'display_data';\n",
              "          await google.colab.output.renderOutput(dataTable, element);\n",
              "          const docLink = document.createElement('div');\n",
              "          docLink.innerHTML = docLinkHtml;\n",
              "          element.appendChild(docLink);\n",
              "        }\n",
              "      </script>\n",
              "    </div>\n",
              "  </div>\n",
              "  "
            ]
          },
          "metadata": {},
          "execution_count": 128
        }
      ]
    },
    {
      "cell_type": "code",
      "source": [
        "ig, ax = plt.subplots(1, 2, figsize=(18,4))\n",
        "\n",
        "amount_val = train['word_count'].values\n",
        "time_val = train['char_count'].values\n",
        "\n",
        "sns.distplot(amount_val, ax=ax[0], color='red')\n",
        "ax[0].set_title('Distribution of Transaction Amount', fontsize=14)\n",
        "\n",
        "sns.distplot(time_val, ax=ax[1], color='blue')\n",
        "ax[1].set_title('Distribution of Transaction Time', fontsize=14)\n",
        "\n",
        "plt.show()"
      ],
      "metadata": {
        "id": "7PPaMBzROnkz",
        "outputId": "77e12105-c46c-4aa2-e35d-4755a30ccf62",
        "execution": {
          "iopub.status.busy": "2021-06-17T12:47:21.712188Z",
          "iopub.execute_input": "2021-06-17T12:47:21.713051Z",
          "iopub.status.idle": "2021-06-17T12:47:22.426817Z",
          "shell.execute_reply.started": "2021-06-17T12:47:21.713002Z",
          "shell.execute_reply": "2021-06-17T12:47:22.425793Z"
        },
        "trusted": true,
        "colab": {
          "base_uri": "https://localhost:8080/",
          "height": 282
        }
      },
      "execution_count": null,
      "outputs": [
        {
          "output_type": "display_data",
          "data": {
            "text/plain": [
              "<Figure size 1296x288 with 2 Axes>"
            ],
            "image/png": "[encoded data removed]"
          },
          "metadata": {
            "needs_background": "light"
          }
        }
      ]
    },
    {
      "cell_type": "code",
      "source": [
        "x = 'word_count'\n",
        "y = 'job_type'\n",
        "\n",
        "sns.displot(train, x=\"word_count\", hue=\"category\")"
      ],
      "metadata": {
        "id": "GaVjxxsaOnEM",
        "outputId": "c8a4f9b9-865e-47ef-bec2-f0ebfa6a31cc",
        "execution": {
          "iopub.status.busy": "2021-06-17T12:47:23.710677Z",
          "iopub.execute_input": "2021-06-17T12:47:23.711058Z",
          "iopub.status.idle": "2021-06-17T12:47:24.849491Z",
          "shell.execute_reply.started": "2021-06-17T12:47:23.711027Z",
          "shell.execute_reply": "2021-06-17T12:47:24.848211Z"
        },
        "trusted": true,
        "colab": {
          "base_uri": "https://localhost:8080/",
          "height": 386
        }
      },
      "execution_count": null,
      "outputs": [
        {
          "output_type": "execute_result",
          "data": {
            "text/plain": [
              "<seaborn.axisgrid.FacetGrid at 0x7fb2033867d0>"
            ]
          },
          "metadata": {},
          "execution_count": 130
        },
        {
          "output_type": "display_data",
          "data": {
            "text/plain": [
              "<Figure size 627.625x360 with 1 Axes>"
            ],
            "image/png": "[encoded data removed]"
          },
          "metadata": {
            "needs_background": "light"
          }
        }
      ]
    },
    {
      "cell_type": "code",
      "source": [
        "# adding a new attribute for differencing the language of teh 'job_description' !!\n",
        "\n",
        "import langdetect\n",
        "\n",
        "print('* ------------------------- for train data-------------------------------- *')\n",
        "\n",
        "train['lang'] = train[\"job_description\"].apply(lambda x: langdetect.detect(x) if x.strip() != \"\" else \"\")\n",
        "\n",
        "fig, ax = plt.subplots()\n",
        "fig.suptitle('lang', fontsize=12)\n",
        "train['lang'].reset_index().groupby('lang').count().sort_values(by= \"index\").plot(kind=\"barh\", legend=False, ax=ax).grid(axis='x')\n",
        "plt.show()\n",
        "\n",
        "print('* -------------------------- for test data ------------------------------- *')\n",
        "\n",
        "test['lang'] = test[\"job_description\"].apply(lambda x: langdetect.detect(x) if x.strip() != \"\" else \"\")\n",
        "\n",
        "fig, ax = plt.subplots()\n",
        "fig.suptitle('lang', fontsize=12)\n",
        "test['lang'].reset_index().groupby('lang').count().sort_values(by= \"index\").plot(kind=\"barh\", legend=False, ax=ax).grid(axis='x')\n",
        "plt.show()\n"
      ],
      "metadata": {
        "id": "0NoBuhY78zcJ",
        "outputId": "bfc1b6a3-3c72-4608-dbca-c29cfa6cf11b",
        "execution": {
          "iopub.status.busy": "2021-06-17T12:47:30.271802Z",
          "iopub.execute_input": "2021-06-17T12:47:30.272158Z",
          "iopub.status.idle": "2021-06-17T12:51:20.614045Z",
          "shell.execute_reply.started": "2021-06-17T12:47:30.272129Z",
          "shell.execute_reply": "2021-06-17T12:51:20.612917Z"
        },
        "trusted": true,
        "colab": {
          "base_uri": "https://localhost:8080/",
          "height": 606
        }
      },
      "execution_count": null,
      "outputs": [
        {
          "output_type": "stream",
          "name": "stdout",
          "text": [
            "* ------------------------- for train data-------------------------------- *\n"
          ]
        },
        {
          "output_type": "display_data",
          "data": {
            "text/plain": [
              "<Figure size 432x288 with 1 Axes>"
            ],
            "image/png": "[encoded data removed]"
          },
          "metadata": {
            "needs_background": "light"
          }
        },
        {
          "output_type": "stream",
          "name": "stdout",
          "text": [
            "* -------------------------- for test data ------------------------------- *\n"
          ]
        },
        {
          "output_type": "display_data",
          "data": {
            "text/plain": [
              "<Figure size 432x288 with 1 Axes>"
            ],
            "image/png": "[encoded data removed]"
          },
          "metadata": {
            "needs_background": "light"
          }
        }
      ]
    },
    {
      "cell_type": "markdown",
      "source": [
        "Modeling"
      ],
      "metadata": {
        "id": "qpwhVvQYXz1T"
      }
    },
    {
      "cell_type": "code",
      "source": [
        "from keras.preprocessing.text import Tokenizer\n",
        "from keras.preprocessing.sequence import pad_sequences\n",
        "from keras.callbacks import EarlyStopping\n",
        "from sklearn.model_selection import train_test_split\n",
        "from tensorflow.keras.optimizers import Adam\n",
        "\n",
        "\n",
        "\n",
        "import tensorflow as tf\n",
        "import numpy as np\n",
        "from tensorflow.keras.preprocessing.text import Tokenizer\n",
        "from tensorflow.keras.preprocessing.sequence import pad_sequences\n",
        "from tensorflow.keras.models import Sequential\n",
        "from tensorflow.keras.layers import Dense, Flatten, MaxPooling1D, GlobalMaxPooling1D, LSTM, Dropout, GRU, Activation, Embedding, Bidirectional,SpatialDropout1D, BatchNormalization, Conv1D, MaxPool1D"
      ],
      "metadata": {
        "id": "eC56AGcYX44r",
        "execution": {
          "iopub.status.busy": "2021-06-17T12:51:29.227239Z",
          "iopub.execute_input": "2021-06-17T12:51:29.227602Z",
          "iopub.status.idle": "2021-06-17T12:51:35.012905Z",
          "shell.execute_reply.started": "2021-06-17T12:51:29.227570Z",
          "shell.execute_reply": "2021-06-17T12:51:35.011917Z"
        },
        "trusted": true
      },
      "execution_count": null,
      "outputs": []
    },
    {
      "cell_type": "code",
      "source": [
        "MAX_NB_WORDS = 28523 + 1\n",
        "\n",
        "MAX_SEQUENCE_LENGTH = 100\n",
        "\n",
        "\n",
        "EMBEDDING_DIM = 100\n",
        "\n",
        "Job_type = {\n",
        "    'Permanent':0,\n",
        "    'Contract/Interim':1,\n",
        "    'Contract/Temp':2,\n",
        "    'Temporary/Seasonal':3,\n",
        "    'Any':4,\n",
        "    'Part-Time':6\n",
        "    }\n",
        "\n",
        "tokenizer = Tokenizer(num_words=MAX_NB_WORDS, filters='!\"#$%&()*+,-./:;<=>?@[\\]^_`{|}~', lower=True)\n",
        "tokenizer.fit_on_texts(train['job_description'].values)\n",
        "\n",
        "word_index = tokenizer.word_index\n",
        "print('Found %s unique tokens.' % len(word_index))"
      ],
      "metadata": {
        "id": "Voq5ftNSX5z_",
        "outputId": "bc243c0f-9971-4337-fab3-32c31d34b495",
        "execution": {
          "iopub.status.busy": "2021-06-17T12:51:35.014529Z",
          "iopub.execute_input": "2021-06-17T12:51:35.014881Z",
          "iopub.status.idle": "2021-06-17T12:51:37.278978Z",
          "shell.execute_reply.started": "2021-06-17T12:51:35.014849Z",
          "shell.execute_reply": "2021-06-17T12:51:37.277685Z"
        },
        "trusted": true,
        "colab": {
          "base_uri": "https://localhost:8080/"
        }
      },
      "execution_count": null,
      "outputs": [
        {
          "output_type": "stream",
          "name": "stdout",
          "text": [
            "Found 15436 unique tokens.\n"
          ]
        }
      ]
    },
    {
      "cell_type": "code",
      "source": [
        "tokenizer = Tokenizer(num_words=MAX_NB_WORDS,\n",
        "                      filters='!\"#$%&()*+,-./:;<=>?@[\\]^_`{|}~',\n",
        "                      lower=True, oov_token='OOV')\n",
        "\n",
        "tokenizer.fit_on_texts(train['job_description'].values)\n",
        "X = tokenizer.texts_to_sequences(train['job_description'].values)\n",
        "\n",
        "MAX_NB_WORDS = len(tokenizer.word_index) + 1\n",
        "\n",
        "MAX_SEQUENCE_LENGTH = 100\n",
        "\n",
        "EMBEDDING_DIM = 100\n",
        "\n",
        "X = pad_sequences(X, maxlen=MAX_SEQUENCE_LENGTH) # Training labels\n",
        "\n",
        "Y = pd.get_dummies(train.replace\n",
        "                   ({\"job_type\": Job_type})\n",
        "                   ['job_type'].values) # Target class"
      ],
      "metadata": {
        "id": "9adr6lhxnQ-2",
        "execution": {
          "iopub.status.busy": "2021-06-17T12:51:37.280877Z",
          "iopub.execute_input": "2021-06-17T12:51:37.281225Z",
          "iopub.status.idle": "2021-06-17T12:51:40.068894Z",
          "shell.execute_reply.started": "2021-06-17T12:51:37.281187Z",
          "shell.execute_reply": "2021-06-17T12:51:40.067943Z"
        },
        "trusted": true
      },
      "execution_count": null,
      "outputs": []
    },
    {
      "cell_type": "code",
      "source": [
        "X = tokenizer.texts_to_sequences(train['job_description'].values)\n",
        "X = pad_sequences(X, maxlen=MAX_SEQUENCE_LENGTH)\n",
        "print('Shape of data tensor:', X.shape)"
      ],
      "metadata": {
        "id": "JVI8oRMuX7lH",
        "outputId": "f4141e75-54e1-4200-dfce-b4f734d121e1",
        "execution": {
          "iopub.status.busy": "2021-06-17T12:51:40.070709Z",
          "iopub.execute_input": "2021-06-17T12:51:40.071091Z",
          "iopub.status.idle": "2021-06-17T12:51:41.384740Z",
          "shell.execute_reply.started": "2021-06-17T12:51:40.071048Z",
          "shell.execute_reply": "2021-06-17T12:51:41.383684Z"
        },
        "trusted": true,
        "colab": {
          "base_uri": "https://localhost:8080/"
        }
      },
      "execution_count": null,
      "outputs": [
        {
          "output_type": "stream",
          "name": "stdout",
          "text": [
            "Shape of data tensor: (3194, 100)\n"
          ]
        }
      ]
    },
    {
      "cell_type": "markdown",
      "source": [
        "Training"
      ],
      "metadata": {
        "id": "WYFlRxzwx0ge"
      }
    },
    {
      "cell_type": "code",
      "source": [
        "Job_type = {\n",
        "    'Permanent':0,\n",
        "    'Contract/Interim':1,\n",
        "    'Contract/Temp':2,\n",
        "    'Temporary/Seasonal':3,\n",
        "    'Any':4,\n",
        "    'Part-Time':6\n",
        "    }\n",
        "\n",
        "\n",
        "Y = pd.get_dummies(train.replace({\"job_type\": Job_type})['job_type'].values)\n",
        "print('Shape of label tensor:', Y.shape)"
      ],
      "metadata": {
        "id": "rOXe0ZcLX9zC",
        "outputId": "faae7d3d-f460-4781-e32a-b85ae9811f80",
        "execution": {
          "iopub.status.busy": "2021-06-17T12:51:41.386156Z",
          "iopub.execute_input": "2021-06-17T12:51:41.386578Z",
          "iopub.status.idle": "2021-06-17T12:51:41.409649Z",
          "shell.execute_reply.started": "2021-06-17T12:51:41.386532Z",
          "shell.execute_reply": "2021-06-17T12:51:41.408627Z"
        },
        "trusted": true,
        "colab": {
          "base_uri": "https://localhost:8080/"
        }
      },
      "execution_count": null,
      "outputs": [
        {
          "output_type": "stream",
          "name": "stdout",
          "text": [
            "Shape of label tensor: (3194, 6)\n"
          ]
        }
      ]
    },
    {
      "cell_type": "code",
      "source": [
        "# Data Splitting\n",
        "X_train, X_test, Y_train, Y_test = train_test_split(X,Y, test_size = 0.10,\n",
        "                                                    random_state = 42)\n",
        "\n",
        "# Modeling\n",
        "job_model = Sequential()\n",
        "job_model.add(Embedding(MAX_NB_WORDS, EMBEDDING_DIM, input_length=X.shape[1]))\n",
        "\n",
        "job_model.add(LSTM(100, dropout=0.3, recurrent_dropout=0.3, return_sequences=True))\n",
        "job_model.add(LSTM(80, dropout=0.3, recurrent_dropout=0.3))\n",
        "\n",
        "job_model.add(Dense(128, activation='relu'))\n",
        "job_model.add(Dropout(0.3))\n",
        "\n",
        "job_model.add(Dense(6, activation='softmax'))\n",
        "job_model.compile(loss='categorical_crossentropy', optimizer='adam',\n",
        "                  metrics=['accuracy'])"
      ],
      "metadata": {
        "id": "xZvSEDCCYCyn",
        "execution": {
          "iopub.status.busy": "2021-06-17T12:51:41.410909Z",
          "iopub.execute_input": "2021-06-17T12:51:41.411182Z",
          "iopub.status.idle": "2021-06-17T12:51:41.846637Z",
          "shell.execute_reply.started": "2021-06-17T12:51:41.411155Z",
          "shell.execute_reply": "2021-06-17T12:51:41.845590Z"
        },
        "trusted": true
      },
      "execution_count": null,
      "outputs": []
    },
    {
      "cell_type": "code",
      "source": [
        "class_w = {\n",
        "    0:0.18616874,\n",
        "    1:2.1041366,\n",
        "    2:10.1969697,\n",
        "    3:25.80825959,\n",
        "    4:116.65333333,\n",
        "    5:126.79710145\n",
        "}"
      ],
      "metadata": {
        "id": "1uu4XB_sYEyd",
        "execution": {
          "iopub.status.busy": "2021-06-17T12:51:41.847711Z",
          "iopub.execute_input": "2021-06-17T12:51:41.847966Z",
          "iopub.status.idle": "2021-06-17T12:51:41.852442Z",
          "shell.execute_reply.started": "2021-06-17T12:51:41.847941Z",
          "shell.execute_reply": "2021-06-17T12:51:41.851492Z"
        },
        "trusted": true
      },
      "execution_count": null,
      "outputs": []
    },
    {
      "cell_type": "code",
      "source": [
        "job_model = Sequential()\n",
        "job_model.add(Embedding(MAX_NB_WORDS, 300, input_length=X.shape[1]))\n",
        "\n",
        "\n",
        "job_model.add(LSTM(100, dropout=0.3, recurrent_dropout=0.3))\n",
        "\n",
        "job_model.add(Dense(128, activation='relu'))\n",
        "job_model.add(Dropout(0.3))\n",
        "\n",
        "job_model.add(Dense(6, activation='softmax'))\n",
        "job_model.compile(loss='categorical_crossentropy', optimizer='adam', metrics=['accuracy'])\n",
        "\n",
        "epochs = 10\n",
        "batch_size = 64\n",
        "\n",
        "history = job_model.fit(X_train, Y_train, epochs=epochs, batch_size=batch_size,validation_split=0.1,\n",
        "                    callbacks=[EarlyStopping(monitor='val_loss', patience=3, min_delta=0.0001)], class_weight = class_w)"
      ],
      "metadata": {
        "id": "L9jT4DCdYGiQ",
        "outputId": "a13724be-35fd-46ff-ecca-7e955f27398b",
        "execution": {
          "iopub.status.busy": "2021-06-17T12:51:41.854648Z",
          "iopub.execute_input": "2021-06-17T12:51:41.854945Z",
          "iopub.status.idle": "2021-06-17T13:02:51.450905Z",
          "shell.execute_reply.started": "2021-06-17T12:51:41.854915Z",
          "shell.execute_reply": "2021-06-17T13:02:51.449070Z"
        },
        "trusted": true,
        "colab": {
          "base_uri": "https://localhost:8080/"
        }
      },
      "execution_count": null,
      "outputs": [
        {
          "output_type": "stream",
          "name": "stdout",
          "text": [
            "Epoch 1/10\n",
            "41/41 [==============================] - 24s 520ms/step - loss: 1.8130 - accuracy: 0.3836 - val_loss: 1.7483 - val_accuracy: 0.5417\n",
            "Epoch 2/10\n",
            "41/41 [==============================] - 21s 512ms/step - loss: 1.7334 - accuracy: 0.3681 - val_loss: 1.4624 - val_accuracy: 0.8507\n",
            "Epoch 3/10\n",
            "41/41 [==============================] - 21s 511ms/step - loss: 1.4304 - accuracy: 0.5491 - val_loss: 1.1198 - val_accuracy: 0.7569\n",
            "Epoch 4/10\n",
            "41/41 [==============================] - 21s 505ms/step - loss: 0.8010 - accuracy: 0.6999 - val_loss: 1.1289 - val_accuracy: 0.5382\n",
            "Epoch 5/10\n",
            "41/41 [==============================] - 21s 504ms/step - loss: 0.3626 - accuracy: 0.6729 - val_loss: 1.1790 - val_accuracy: 0.4549\n",
            "Epoch 6/10\n",
            "41/41 [==============================] - 21s 509ms/step - loss: 0.2420 - accuracy: 0.7916 - val_loss: 1.0516 - val_accuracy: 0.6250\n",
            "Epoch 7/10\n",
            "41/41 [==============================] - 21s 509ms/step - loss: 0.2034 - accuracy: 0.8368 - val_loss: 1.1634 - val_accuracy: 0.5556\n",
            "Epoch 8/10\n",
            "41/41 [==============================] - 21s 506ms/step - loss: 0.1868 - accuracy: 0.8531 - val_loss: 0.9647 - val_accuracy: 0.7500\n",
            "Epoch 9/10\n",
            "41/41 [==============================] - 21s 503ms/step - loss: 0.1577 - accuracy: 0.8654 - val_loss: 1.0384 - val_accuracy: 0.6632\n",
            "Epoch 10/10\n",
            "41/41 [==============================] - 21s 504ms/step - loss: 0.1366 - accuracy: 0.8751 - val_loss: 1.1242 - val_accuracy: 0.7014\n"
          ]
        }
      ]
    },
    {
      "cell_type": "code",
      "source": [
        "accr = job_model.evaluate(X_test,Y_test)\n",
        "print('Test set\\n  Loss: {:0.3f}\\n  Accuracy: {:0.3f}'.format(accr[0],accr[1]))"
      ],
      "metadata": {
        "id": "zHispDK4YJ9A",
        "outputId": "17ae7859-90f9-4d52-c351-1fbcbfcda049",
        "execution": {
          "iopub.status.busy": "2021-06-17T13:02:51.453837Z",
          "iopub.execute_input": "2021-06-17T13:02:51.454423Z",
          "iopub.status.idle": "2021-06-17T13:02:53.725521Z",
          "shell.execute_reply.started": "2021-06-17T13:02:51.454386Z",
          "shell.execute_reply": "2021-06-17T13:02:53.724302Z"
        },
        "trusted": true,
        "colab": {
          "base_uri": "https://localhost:8080/"
        }
      },
      "execution_count": null,
      "outputs": [
        {
          "output_type": "stream",
          "name": "stdout",
          "text": [
            "10/10 [==============================] - 1s 47ms/step - loss: 1.0402 - accuracy: 0.7688\n",
            "Test set\n",
            "  Loss: 1.040\n",
            "  Accuracy: 0.769\n"
          ]
        }
      ]
    },
    {
      "cell_type": "code",
      "source": [
        "accr = job_model.evaluate(X_test,Y_test)\n",
        "print('Test set\\n  Loss: {:0.3f}\\n  Accuracy: {:0.3f}'.format(accr[0],accr[1]))\n",
        "\n",
        "plt.title('Loss')\n",
        "plt.plot(history.history['loss'], label='train')\n",
        "plt.plot(history.history['val_loss'], label='test')\n",
        "plt.legend()\n",
        "plt.show();\n",
        "\n",
        "plt.title('Accuracy')\n",
        "plt.plot(history.history['accuracy'], label='train')\n",
        "plt.plot(history.history['val_accuracy'], label='test')\n",
        "plt.legend()\n",
        "plt.show();"
      ],
      "metadata": {
        "id": "0LoO87H8YNOB",
        "outputId": "93d32f6a-4bc6-488c-995a-70e3b0b1520e",
        "execution": {
          "iopub.status.busy": "2021-06-17T13:02:53.726996Z",
          "iopub.execute_input": "2021-06-17T13:02:53.727283Z",
          "iopub.status.idle": "2021-06-17T13:02:56.217639Z",
          "shell.execute_reply.started": "2021-06-17T13:02:53.727255Z",
          "shell.execute_reply": "2021-06-17T13:02:56.216526Z"
        },
        "trusted": true,
        "colab": {
          "base_uri": "https://localhost:8080/",
          "height": 614
        }
      },
      "execution_count": null,
      "outputs": [
        {
          "output_type": "stream",
          "name": "stdout",
          "text": [
            "10/10 [==============================] - 0s 48ms/step - loss: 1.0402 - accuracy: 0.7688\n",
            "Test set\n",
            "  Loss: 1.040\n",
            "  Accuracy: 0.769\n"
          ]
        },
        {
          "output_type": "display_data",
          "data": {
            "text/plain": [
              "<Figure size 432x288 with 1 Axes>"
            ],
            "image/png": "[encoded data removed]"
          },
          "metadata": {
            "needs_background": "light"
          }
        },
        {
          "output_type": "display_data",
          "data": {
            "text/plain": [
              "<Figure size 432x288 with 1 Axes>"
            ],
            "image/png": "[encoded data removed]"
          },
          "metadata": {
            "needs_background": "light"
          }
        }
      ]
    },
    {
      "cell_type": "markdown",
      "source": [
        "Predicting the Type :"
      ],
      "metadata": {
        "id": "ekWHHzwcx0gi"
      }
    },
    {
      "cell_type": "code",
      "source": [
        "job_pred = []\n",
        "\n",
        "for i in test['job_description']:\n",
        "    seq = tokenizer.texts_to_sequences([i])\n",
        "\n",
        "    padded = pad_sequences(seq, maxlen = MAX_SEQUENCE_LENGTH)\n",
        "    pred = job_model.predict(padded)\n",
        "    labels = ['Permanent','Contract/Interim','Contract/Temp','Temporary/Seasonal',\n",
        "            'Any','Part-Time']\n",
        "    job_pred.append(labels[np.argmax(pred)])\n",
        "\n",
        "\n",
        "sub = pd.DataFrame()\n",
        "sub['job_no'] = test['job_no']\n",
        "sub['job_type']=pd.Series(job_pred)\n"
      ],
      "metadata": {
        "id": "tPXIqlzJY8g7",
        "execution": {
          "iopub.status.busy": "2021-06-17T13:46:32.719359Z",
          "iopub.execute_input": "2021-06-17T13:46:32.719886Z",
          "iopub.status.idle": "2021-06-17T14:06:56.750398Z",
          "shell.execute_reply.started": "2021-06-17T13:46:32.719840Z",
          "shell.execute_reply": "2021-06-17T14:06:56.749464Z"
        },
        "trusted": true
      },
      "execution_count": null,
      "outputs": []
    },
    {
      "cell_type": "code",
      "source": [
        "sub.head()"
      ],
      "metadata": {
        "id": "J-TXfMUfZLbn",
        "outputId": "faf6738d-b997-462f-ef19-0d94892b4fc2",
        "execution": {
          "iopub.status.busy": "2021-06-17T14:08:40.046213Z",
          "iopub.execute_input": "2021-06-17T14:08:40.046590Z",
          "iopub.status.idle": "2021-06-17T14:08:40.057257Z",
          "shell.execute_reply.started": "2021-06-17T14:08:40.046550Z",
          "shell.execute_reply": "2021-06-17T14:08:40.056288Z"
        },
        "trusted": true,
        "colab": {
          "base_uri": "https://localhost:8080/",
          "height": 206
        }
      },
      "execution_count": null,
      "outputs": [
        {
          "output_type": "execute_result",
          "data": {
            "text/plain": [
              "     job_no          job_type\n",
              "0  Id-19663         Permanent\n",
              "1  Id-18900         Permanent\n",
              "2   Id-5576         Permanent\n",
              "3   Id-8779         Permanent\n",
              "4   Id-1330  Contract/Interim"
            ],
            "text/html": [
              "\n",
              "  <div id=\"df-2f97f595-415b-4212-b33d-e6367b9a3312\">\n",
              "    <div class=\"colab-df-container\">\n",
              "      <div>\n",
              "<style scoped>\n",
              "    .dataframe tbody tr th:only-of-type {\n",
              "        vertical-align: middle;\n",
              "    }\n",
              "\n",
              "    .dataframe tbody tr th {\n",
              "        vertical-align: top;\n",
              "    }\n",
              "\n",
              "    .dataframe thead th {\n",
              "        text-align: right;\n",
              "    }\n",
              "</style>\n",
              "<table border=\"1\" class=\"dataframe\">\n",
              "  <thead>\n",
              "    <tr style=\"text-align: right;\">\n",
              "      <th></th>\n",
              "      <th>job_no</th>\n",
              "      <th>job_type</th>\n",
              "    </tr>\n",
              "  </thead>\n",
              "  <tbody>\n",
              "    <tr>\n",
              "      <th>0</th>\n",
              "      <td>Id-19663</td>\n",
              "      <td>Permanent</td>\n",
              "    </tr>\n",
              "    <tr>\n",
              "      <th>1</th>\n",
              "      <td>Id-18900</td>\n",
              "      <td>Permanent</td>\n",
              "    </tr>\n",
              "    <tr>\n",
              "      <th>2</th>\n",
              "      <td>Id-5576</td>\n",
              "      <td>Permanent</td>\n",
              "    </tr>\n",
              "    <tr>\n",
              "      <th>3</th>\n",
              "      <td>Id-8779</td>\n",
              "      <td>Permanent</td>\n",
              "    </tr>\n",
              "    <tr>\n",
              "      <th>4</th>\n",
              "      <td>Id-1330</td>\n",
              "      <td>Contract/Interim</td>\n",
              "    </tr>\n",
              "  </tbody>\n",
              "</table>\n",
              "</div>\n",
              "      <button class=\"colab-df-convert\" onclick=\"convertToInteractive('df-2f97f595-415b-4212-b33d-e6367b9a3312')\"\n",
              "              title=\"Convert this dataframe to an interactive table.\"\n",
              "              style=\"display:none;\">\n",
              "        \n",
              "  <svg xmlns=\"http://www.w3.org/2000/svg\" height=\"24px\"viewBox=\"0 0 24 24\"\n",
              "       width=\"24px\">\n",
              "    <path d=\"M0 0h24v24H0V0z\" fill=\"none\"/>\n",
              "    <path d=\"M18.56 5.44l.94 2.06.94-2.06 2.06-.94-2.06-.94-.94-2.06-.94 2.06-2.06.94zm-11 1L8.5 8.5l.94-2.06 2.06-.94-2.06-.94L8.5 2.5l-.94 2.06-2.06.94zm10 10l.94 2.06.94-2.06 2.06-.94-2.06-.94-.94-2.06-.94 2.06-2.06.94z\"/><path d=\"M17.41 7.96l-1.37-1.37c-.4-.4-.92-.59-1.43-.59-.52 0-1.04.2-1.43.59L10.3 9.45l-7.72 7.72c-.78.78-.78 2.05 0 2.83L4 21.41c.39.39.9.59 1.41.59.51 0 1.02-.2 1.41-.59l7.78-7.78 2.81-2.81c.8-.78.8-2.07 0-2.86zM5.41 20L4 18.59l7.72-7.72 1.47 1.35L5.41 20z\"/>\n",
              "  </svg>\n",
              "      </button>\n",
              "      \n",
              "  <style>\n",
              "    .colab-df-container {\n",
              "      display:flex;\n",
              "      flex-wrap:wrap;\n",
              "      gap: 12px;\n",
              "    }\n",
              "\n",
              "    .colab-df-convert {\n",
              "      background-color: #E8F0FE;\n",
              "      border: none;\n",
              "      border-radius: 50%;\n",
              "      cursor: pointer;\n",
              "      display: none;\n",
              "      fill: #1967D2;\n",
              "      height: 32px;\n",
              "      padding: 0 0 0 0;\n",
              "      width: 32px;\n",
              "    }\n",
              "\n",
              "    .colab-df-convert:hover {\n",
              "      background-color: #E2EBFA;\n",
              "      box-shadow: 0px 1px 2px rgba(60, 64, 67, 0.3), 0px 1px 3px 1px rgba(60, 64, 67, 0.15);\n",
              "      fill: #174EA6;\n",
              "    }\n",
              "\n",
              "    [theme=dark] .colab-df-convert {\n",
              "      background-color: #3B4455;\n",
              "      fill: #D2E3FC;\n",
              "    }\n",
              "\n",
              "    [theme=dark] .colab-df-convert:hover {\n",
              "      background-color: #434B5C;\n",
              "      box-shadow: 0px 1px 3px 1px rgba(0, 0, 0, 0.15);\n",
              "      filter: drop-shadow(0px 1px 2px rgba(0, 0, 0, 0.3));\n",
              "      fill: #FFFFFF;\n",
              "    }\n",
              "  </style>\n",
              "\n",
              "      <script>\n",
              "        const buttonEl =\n",
              "          document.querySelector('#df-2f97f595-415b-4212-b33d-e6367b9a3312 button.colab-df-convert');\n",
              "        buttonEl.style.display =\n",
              "          google.colab.kernel.accessAllowed ? 'block' : 'none';\n",
              "\n",
              "        async function convertToInteractive(key) {\n",
              "          const element = document.querySelector('#df-2f97f595-415b-4212-b33d-e6367b9a3312');\n",
              "          const dataTable =\n",
              "            await google.colab.kernel.invokeFunction('convertToInteractive',\n",
              "                                                     [key], {});\n",
              "          if (!dataTable) return;\n",
              "\n",
              "          const docLinkHtml = 'Like what you see? Visit the ' +\n",
              "            '<a target=\"_blank\" href=https://colab.research.google.com/notebooks/data_table.ipynb>data table notebook</a>'\n",
              "            + ' to learn more about interactive tables.';\n",
              "          element.innerHTML = '';\n",
              "          dataTable['output_type'] = 'display_data';\n",
              "          await google.colab.output.renderOutput(dataTable, element);\n",
              "          const docLink = document.createElement('div');\n",
              "          docLink.innerHTML = docLinkHtml;\n",
              "          element.appendChild(docLink);\n",
              "        }\n",
              "      </script>\n",
              "    </div>\n",
              "  </div>\n",
              "  "
            ]
          },
          "metadata": {},
          "execution_count": 143
        }
      ]
    },
    {
      "cell_type": "code",
      "source": [],
      "metadata": {
        "id": "-j_ykxjoZLWN"
      },
      "execution_count": null,
      "outputs": []
    }
  ]
}